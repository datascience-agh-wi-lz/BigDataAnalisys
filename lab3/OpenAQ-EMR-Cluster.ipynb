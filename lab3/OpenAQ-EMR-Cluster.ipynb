{
 "cells": [
  {
   "cell_type": "markdown",
   "metadata": {},
   "source": [
    "LUKASZ ZAJAC"
   ]
  },
  {
   "cell_type": "markdown",
   "metadata": {
    "application/vnd.databricks.v1+cell": {
     "cellMetadata": {
      "byteLimit": 2048000,
      "rowLimit": 10000
     },
     "inputWidgets": {},
     "nuid": "2b550f26-e8a0-4edd-972e-54b1f63649aa",
     "showTitle": false,
     "title": ""
    }
   },
   "source": [
    "## Spark cluster intro Air quality examples"
   ]
  },
  {
   "cell_type": "markdown",
   "metadata": {
    "application/vnd.databricks.v1+cell": {
     "cellMetadata": {
      "byteLimit": 2048000,
      "rowLimit": 10000
     },
     "inputWidgets": {},
     "nuid": "67514099-a0f6-4296-ba2a-b99ce344e37f",
     "showTitle": false,
     "title": ""
    }
   },
   "source": [
    "### Initialization\n",
    "Create and attach cluster created in EMR. \n",
    "\n",
    "The important configuration options:\n",
    " - Amazon EMR version: emr-7.1.0\n",
    " - Installed applications: JupyterHub 1.5.0\n",
    " - Logs in Amazon S3: disabled\n",
    " - Service role for Amazon EMR: EMR_DefaultRole \n",
    " - EC2 instance profile: EMR_EC2_DefaultRole\n",
    " - EC2 security groups (firewall): open ports 9443, 18080\n",
    " \n",
    "Login: jovyan, password: jupyter"
   ]
  },
  {
   "cell_type": "code",
   "execution_count": null,
   "metadata": {
    "application/vnd.databricks.v1+cell": {
     "cellMetadata": {
      "byteLimit": 2048000,
      "rowLimit": 10000
     },
     "inputWidgets": {},
     "nuid": "67a37c1d-a889-4c0f-b741-a236203aab6a",
     "showTitle": false,
     "title": ""
    },
    "execution": {
     "iopub.execute_input": "2022-11-04T19:19:44.508099Z",
     "iopub.status.busy": "2022-11-04T19:19:44.507857Z",
     "iopub.status.idle": "2022-11-04T19:20:23.275027Z",
     "shell.execute_reply": "2022-11-04T19:20:23.273784Z",
     "shell.execute_reply.started": "2022-11-04T19:19:44.508074Z"
    },
    "tags": []
   },
   "outputs": [
    {
     "data": {
      "application/vnd.jupyter.widget-view+json": {
       "model_id": "",
       "version_major": 2,
       "version_minor": 0
      },
      "text/plain": [
       "FloatProgress(value=0.0, bar_style='info', description='Progress:', layout=Layout(height='25px', width='50%'),…"
      ]
     },
     "metadata": {},
     "output_type": "display_data"
    }
   ],
   "source": [
    "from pyspark.sql import SparkSession\n",
    "from pyspark.conf import SparkConf\n",
    "spark = SparkSession.builder.getOrCreate()"
   ]
  },
  {
   "cell_type": "code",
   "execution_count": null,
   "metadata": {},
   "outputs": [
    {
     "name": "stdout",
     "output_type": "stream",
     "text": [
      "Starting Spark application\n"
     ]
    },
    {
     "data": {
      "text/html": [
       "<table>\n",
       "<tr><th>ID</th><th>YARN Application ID</th><th>Kind</th><th>State</th><th>Spark UI</th><th>Driver log</th><th>User</th><th>Current session?</th></tr><tr><td>6</td><td>application_1731674098412_0007</td><td>pyspark</td><td>idle</td><td><a target=\"_blank\" href=\"http://ip-172-31-31-122.ec2.internal:20888/proxy/application_1731674098412_0007/\">Link</a></td><td><a target=\"_blank\" href=\"http://ip-172-31-30-66.ec2.internal:8042/node/containerlogs/container_1731674098412_0007_01_000001/livy\">Link</a></td><td>None</td><td>✔</td></tr></table>"
      ],
      "text/plain": [
       "<IPython.core.display.HTML object>"
      ]
     },
     "metadata": {},
     "output_type": "display_data"
    },
    {
     "data": {
      "application/vnd.jupyter.widget-view+json": {
       "model_id": "",
       "version_major": 2,
       "version_minor": 0
      },
      "text/plain": [
       "FloatProgress(value=0.0, bar_style='info', description='Progress:', layout=Layout(height='25px', width='50%'),…"
      ]
     },
     "metadata": {},
     "output_type": "display_data"
    },
    {
     "name": "stdout",
     "output_type": "stream",
     "text": [
      "SparkSession available as 'spark'.\n"
     ]
    },
    {
     "data": {
      "text/html": [
       "Current session configs: <tt>{'conf': {'spark.pyspark.python': 'python3', 'spark.pyspark.virtualenv.enabled': 'true', 'spark.pyspark.virtualenv.type': 'native', 'spark.pyspark.virtualenv.bin.path': '/usr/bin/virtualenv'}, 'proxyUser': 'jovyan', 'kind': 'pyspark'}</tt><br>"
      ],
      "text/plain": [
       "<IPython.core.display.HTML object>"
      ]
     },
     "metadata": {},
     "output_type": "display_data"
    },
    {
     "data": {
      "text/html": [
       "<table>\n",
       "<tr><th>ID</th><th>YARN Application ID</th><th>Kind</th><th>State</th><th>Spark UI</th><th>Driver log</th><th>User</th><th>Current session?</th></tr><tr><td>6</td><td>application_1731674098412_0007</td><td>pyspark</td><td>idle</td><td><a target=\"_blank\" href=\"http://ip-172-31-31-122.ec2.internal:20888/proxy/application_1731674098412_0007/\">Link</a></td><td><a target=\"_blank\" href=\"http://ip-172-31-30-66.ec2.internal:8042/node/containerlogs/container_1731674098412_0007_01_000001/livy\">Link</a></td><td>None</td><td>✔</td></tr></table>"
      ],
      "text/plain": [
       "<IPython.core.display.HTML object>"
      ]
     },
     "metadata": {},
     "output_type": "display_data"
    }
   ],
   "source": [
    "%%configure -f\n",
    "{\n",
    "    \"conf\": {\n",
    "        \"spark.pyspark.python\": \"python3\",\n",
    "        \"spark.pyspark.virtualenv.enabled\": \"true\",\n",
    "        \"spark.pyspark.virtualenv.type\":\"native\",\n",
    "        \"spark.pyspark.virtualenv.bin.path\":\"/usr/bin/virtualenv\"\n",
    "    }\n",
    "}"
   ]
  },
  {
   "cell_type": "code",
   "execution_count": null,
   "metadata": {},
   "outputs": [
    {
     "data": {
      "application/vnd.jupyter.widget-view+json": {
       "model_id": "",
       "version_major": 2,
       "version_minor": 0
      },
      "text/plain": [
       "FloatProgress(value=0.0, bar_style='info', description='Progress:', layout=Layout(height='25px', width='50%'),…"
      ]
     },
     "metadata": {},
     "output_type": "display_data"
    },
    {
     "name": "stdout",
     "output_type": "stream",
     "text": [
      "Collecting pandas\n",
      "  Downloading pandas-2.2.3-cp39-cp39-manylinux_2_17_x86_64.manylinux2014_x86_64.whl (13.1 MB)\n",
      "Collecting python-dateutil>=2.8.2\n",
      "  Downloading python_dateutil-2.9.0.post0-py2.py3-none-any.whl (229 kB)\n",
      "Collecting tzdata>=2022.7\n",
      "  Downloading tzdata-2024.2-py2.py3-none-any.whl (346 kB)\n",
      "Collecting numpy>=1.22.4\n",
      "  Downloading numpy-2.0.2-cp39-cp39-manylinux_2_17_x86_64.manylinux2014_x86_64.whl (19.5 MB)\n",
      "Requirement already satisfied: pytz>=2020.1 in /usr/local/lib/python3.9/site-packages (from pandas) (2024.1)\n",
      "Requirement already satisfied: six>=1.5 in /usr/local/lib/python3.9/site-packages (from python-dateutil>=2.8.2->pandas) (1.13.0)\n",
      "Installing collected packages: tzdata, python-dateutil, numpy, pandas\n",
      "  Attempting uninstall: python-dateutil\n",
      "    Found existing installation: python-dateutil 2.8.1\n",
      "    Not uninstalling python-dateutil at /usr/lib/python3.9/site-packages, outside environment /mnt1/yarn/usercache/livy/appcache/application_1731674098412_0007/container_1731674098412_0007_01_000001/tmp/spark-2aa032f0-80e8-49c7-a491-82aff9ac347b\n",
      "    Can't uninstall 'python-dateutil'. No files were found to uninstall.\n",
      "Successfully installed numpy-2.0.2 pandas-2.2.3 python-dateutil-2.9.0.post0 tzdata-2024.2\n",
      "\n",
      "Collecting matplotlib\n",
      "  Downloading matplotlib-3.9.2-cp39-cp39-manylinux_2_17_x86_64.manylinux2014_x86_64.whl (8.3 MB)\n",
      "Collecting importlib-resources>=3.2.0\n",
      "  Downloading importlib_resources-6.4.5-py3-none-any.whl (36 kB)\n",
      "Collecting cycler>=0.10\n",
      "  Downloading cycler-0.12.1-py3-none-any.whl (8.3 kB)\n",
      "Collecting kiwisolver>=1.3.1\n",
      "  Downloading kiwisolver-1.4.7-cp39-cp39-manylinux_2_12_x86_64.manylinux2010_x86_64.whl (1.6 MB)\n",
      "Collecting packaging>=20.0\n",
      "  Downloading packaging-24.2-py3-none-any.whl (65 kB)\n",
      "Requirement already satisfied: numpy>=1.23 in ./tmp/spark-2aa032f0-80e8-49c7-a491-82aff9ac347b/lib64/python3.9/site-packages (from matplotlib) (2.0.2)\n",
      "Collecting contourpy>=1.0.1\n",
      "  Downloading contourpy-1.3.0-cp39-cp39-manylinux_2_17_x86_64.manylinux2014_x86_64.whl (321 kB)\n",
      "Collecting pyparsing>=2.3.1\n",
      "  Downloading pyparsing-3.2.0-py3-none-any.whl (106 kB)\n",
      "Collecting pillow>=8\n",
      "  Downloading pillow-11.0.0-cp39-cp39-manylinux_2_28_x86_64.whl (4.4 MB)\n",
      "Collecting fonttools>=4.22.0\n",
      "  Downloading fonttools-4.55.0-cp39-cp39-manylinux_2_17_x86_64.manylinux2014_x86_64.whl (4.6 MB)\n",
      "Requirement already satisfied: python-dateutil>=2.7 in ./tmp/spark-2aa032f0-80e8-49c7-a491-82aff9ac347b/lib/python3.9/site-packages (from matplotlib) (2.9.0.post0)\n",
      "Collecting zipp>=3.1.0\n",
      "  Downloading zipp-3.21.0-py3-none-any.whl (9.6 kB)\n",
      "Requirement already satisfied: six>=1.5 in /usr/local/lib/python3.9/site-packages (from python-dateutil>=2.7->matplotlib) (1.13.0)\n",
      "Installing collected packages: zipp, pyparsing, pillow, packaging, kiwisolver, importlib-resources, fonttools, cycler, contourpy, matplotlib\n",
      "Successfully installed contourpy-1.3.0 cycler-0.12.1 fonttools-4.55.0 importlib-resources-6.4.5 kiwisolver-1.4.7 matplotlib-3.9.2 packaging-24.2 pillow-11.0.0 pyparsing-3.2.0 zipp-3.21.0\n",
      "\n",
      "WARNING: The directory '/home/.cache/pip' or its parent directory is not owned or is not writable by the current user. The cache has been disabled. Check the permissions and owner of that directory. If executing pip with sudo, you should use sudo's -H flag.\n",
      "ERROR: pip's dependency resolver does not currently take into account all the packages that are installed. This behaviour is the source of the following dependency conflicts.\n",
      "awscli 2.15.30 requires python-dateutil<=2.8.2,>=2.1, but you have python-dateutil 2.9.0.post0 which is incompatible.\n",
      "\n",
      "WARNING: The directory '/home/.cache/pip' or its parent directory is not owned or is not writable by the current user. The cache has been disabled. Check the permissions and owner of that directory. If executing pip with sudo, you should use sudo's -H flag."
     ]
    }
   ],
   "source": [
    "# run once per session to install additional packages\n",
    "sc.install_pypi_package(\"pandas\")\n",
    "sc.install_pypi_package(\"matplotlib\")\n"
   ]
  },
  {
   "cell_type": "code",
   "execution_count": null,
   "metadata": {},
   "outputs": [
    {
     "data": {
      "application/vnd.jupyter.widget-view+json": {
       "model_id": "",
       "version_major": 2,
       "version_minor": 0
      },
      "text/plain": [
       "FloatProgress(value=0.0, bar_style='info', description='Progress:', layout=Layout(height='25px', width='50%'),…"
      ]
     },
     "metadata": {},
     "output_type": "display_data"
    },
    {
     "name": "stdout",
     "output_type": "stream",
     "text": [
      "Collecting geopandas\n",
      "  Downloading geopandas-1.0.1-py3-none-any.whl (323 kB)\n",
      "Requirement already satisfied: numpy>=1.22 in ./tmp/spark-2aa032f0-80e8-49c7-a491-82aff9ac347b/lib64/python3.9/site-packages (from geopandas) (2.0.2)\n",
      "Collecting shapely>=2.0.0\n",
      "  Downloading shapely-2.0.6-cp39-cp39-manylinux_2_17_x86_64.manylinux2014_x86_64.whl (2.5 MB)\n",
      "Requirement already satisfied: packaging in ./tmp/spark-2aa032f0-80e8-49c7-a491-82aff9ac347b/lib/python3.9/site-packages (from geopandas) (24.2)\n",
      "Requirement already satisfied: pandas>=1.4.0 in ./tmp/spark-2aa032f0-80e8-49c7-a491-82aff9ac347b/lib64/python3.9/site-packages (from geopandas) (2.2.3)\n",
      "Collecting pyogrio>=0.7.2\n",
      "  Downloading pyogrio-0.10.0-cp39-cp39-manylinux_2_28_x86_64.whl (23.9 MB)\n",
      "Collecting pyproj>=3.3.0\n",
      "  Downloading pyproj-3.6.1-cp39-cp39-manylinux_2_17_x86_64.manylinux2014_x86_64.whl (8.3 MB)\n",
      "Requirement already satisfied: python-dateutil>=2.8.2 in ./tmp/spark-2aa032f0-80e8-49c7-a491-82aff9ac347b/lib/python3.9/site-packages (from pandas>=1.4.0->geopandas) (2.9.0.post0)\n",
      "Requirement already satisfied: pytz>=2020.1 in /usr/local/lib/python3.9/site-packages (from pandas>=1.4.0->geopandas) (2024.1)\n",
      "Requirement already satisfied: tzdata>=2022.7 in ./tmp/spark-2aa032f0-80e8-49c7-a491-82aff9ac347b/lib/python3.9/site-packages (from pandas>=1.4.0->geopandas) (2024.2)\n",
      "Collecting certifi\n",
      "  Downloading certifi-2024.8.30-py3-none-any.whl (167 kB)\n",
      "Requirement already satisfied: six>=1.5 in /usr/local/lib/python3.9/site-packages (from python-dateutil>=2.8.2->pandas>=1.4.0->geopandas) (1.13.0)\n",
      "Installing collected packages: certifi, shapely, pyproj, pyogrio, geopandas\n",
      "Successfully installed certifi-2024.8.30 geopandas-1.0.1 pyogrio-0.10.0 pyproj-3.6.1 shapely-2.0.6\n",
      "\n",
      "WARNING: The directory '/home/.cache/pip' or its parent directory is not owned or is not writable by the current user. The cache has been disabled. Check the permissions and owner of that directory. If executing pip with sudo, you should use sudo's -H flag."
     ]
    }
   ],
   "source": [
    "sc.install_pypi_package(\"geopandas\")\n"
   ]
  },
  {
   "cell_type": "code",
   "execution_count": null,
   "metadata": {
    "application/vnd.databricks.v1+cell": {
     "cellMetadata": {
      "byteLimit": 2048000,
      "rowLimit": 10000
     },
     "inputWidgets": {},
     "nuid": "a88b1d0d-29ee-435a-88ab-5d2cdfbe501a",
     "showTitle": false,
     "title": ""
    }
   },
   "outputs": [
    {
     "data": {
      "application/vnd.jupyter.widget-view+json": {
       "model_id": "",
       "version_major": 2,
       "version_minor": 0
      },
      "text/plain": [
       "FloatProgress(value=0.0, bar_style='info', description='Progress:', layout=Layout(height='25px', width='50%'),…"
      ]
     },
     "metadata": {},
     "output_type": "display_data"
    }
   ],
   "source": [
    "from pyspark.sql.functions import col, mean\n",
    "import matplotlib.pyplot as plt\n",
    "import pandas as pd\n",
    "import time"
   ]
  },
  {
   "cell_type": "markdown",
   "metadata": {
    "application/vnd.databricks.v1+cell": {
     "cellMetadata": {
      "byteLimit": 2048000,
      "rowLimit": 10000
     },
     "inputWidgets": {},
     "nuid": "e9b09d89-b7d0-4cdb-b300-404f5b54a87b",
     "showTitle": false,
     "title": ""
    }
   },
   "source": [
    "### Reading data from AWS S3\n",
    "\n",
    "Now we can read a small sample of data:"
   ]
  },
  {
   "cell_type": "code",
   "execution_count": null,
   "metadata": {},
   "outputs": [
    {
     "name": "stderr",
     "output_type": "stream",
     "text": [
      "The code failed because of a fatal error:\n",
      "\tSession 0 did not start up in 60 seconds..\n",
      "\n",
      "Some things to try:\n",
      "a) Make sure Spark has enough available resources for Jupyter to create a Spark context.\n",
      "b) Contact your Jupyter administrator to make sure the Spark magics library is configured correctly.\n",
      "c) Restart the kernel.\n"
     ]
    }
   ],
   "source": [
    "start = time.time()\n",
    "\n",
    "smog_df = spark \\\n",
    "    .read \\\n",
    "    .format(\"csv\") \\\n",
    "    .option(\"compression\", \"gzip\") \\\n",
    "    .option(\"header\", True) \\\n",
    "    .load(\"s3a://openaq-data-archive/records/csv.gz/locationid=10*/year=2022/month=05/*.csv.gz\")\n",
    "    #.load(\"s3a://openaq-data-archive/records/csv.gz/locationid=2178/year=2022/month=05/location-2178-20220503.csv.gz\")\\\n",
    "\n",
    "end = time.time()\n",
    "print(end - start)"
   ]
  },
  {
   "cell_type": "code",
   "execution_count": null,
   "metadata": {},
   "outputs": [
    {
     "name": "stderr",
     "output_type": "stream",
     "text": [
      "The code failed because of a fatal error:\n",
      "\tSession 0 did not start up in 60 seconds..\n",
      "\n",
      "Some things to try:\n",
      "a) Make sure Spark has enough available resources for Jupyter to create a Spark context.\n",
      "b) Contact your Jupyter administrator to make sure the Spark magics library is configured correctly.\n",
      "c) Restart the kernel.\n"
     ]
    }
   ],
   "source": [
    "# Further queries on smog_df will run much faster when we cache this data set in memory\n",
    "smog_df.cache()"
   ]
  },
  {
   "cell_type": "code",
   "execution_count": null,
   "metadata": {},
   "outputs": [
    {
     "name": "stderr",
     "output_type": "stream",
     "text": [
      "The code failed because of a fatal error:\n",
      "\tSession 0 did not start up in 60 seconds..\n",
      "\n",
      "Some things to try:\n",
      "a) Make sure Spark has enough available resources for Jupyter to create a Spark context.\n",
      "b) Contact your Jupyter administrator to make sure the Spark magics library is configured correctly.\n",
      "c) Restart the kernel.\n"
     ]
    }
   ],
   "source": [
    "start = time.time()\n",
    "smog_df.count()\n",
    "end = time.time()\n",
    "print(end - start)"
   ]
  },
  {
   "cell_type": "code",
   "execution_count": null,
   "metadata": {
    "application/vnd.databricks.v1+cell": {
     "cellMetadata": {
      "byteLimit": 2048000,
      "rowLimit": 10000
     },
     "inputWidgets": {},
     "nuid": "dbfac42d-d81f-499d-8459-069bcbbd009a",
     "showTitle": false,
     "title": ""
    }
   },
   "outputs": [
    {
     "name": "stderr",
     "output_type": "stream",
     "text": [
      "The code failed because of a fatal error:\n",
      "\tSession 0 did not start up in 60 seconds..\n",
      "\n",
      "Some things to try:\n",
      "a) Make sure Spark has enough available resources for Jupyter to create a Spark context.\n",
      "b) Contact your Jupyter administrator to make sure the Spark magics library is configured correctly.\n",
      "c) Restart the kernel.\n"
     ]
    }
   ],
   "source": [
    "smog_df.printSchema()"
   ]
  },
  {
   "cell_type": "code",
   "execution_count": null,
   "metadata": {},
   "outputs": [
    {
     "name": "stderr",
     "output_type": "stream",
     "text": [
      "The code failed because of a fatal error:\n",
      "\tSession 0 did not start up in 60 seconds..\n",
      "\n",
      "Some things to try:\n",
      "a) Make sure Spark has enough available resources for Jupyter to create a Spark context.\n",
      "b) Contact your Jupyter administrator to make sure the Spark magics library is configured correctly.\n",
      "c) Restart the kernel.\n"
     ]
    }
   ],
   "source": [
    "smog_df = smog_df.withColumn(\"value\", smog_df.value.cast('double'))"
   ]
  },
  {
   "cell_type": "markdown",
   "metadata": {
    "application/vnd.databricks.v1+cell": {
     "cellMetadata": {
      "byteLimit": 2048000,
      "rowLimit": 10000
     },
     "inputWidgets": {},
     "nuid": "9836853f-5ef1-4679-af42-b45e097d7f7e",
     "showTitle": false,
     "title": ""
    }
   },
   "source": [
    "### Simple queries"
   ]
  },
  {
   "cell_type": "code",
   "execution_count": null,
   "metadata": {},
   "outputs": [
    {
     "data": {
      "application/vnd.jupyter.widget-view+json": {
       "model_id": "",
       "version_major": 2,
       "version_minor": 0
      },
      "text/plain": [
       "FloatProgress(value=0.0, bar_style='info', description='Progress:', layout=Layout(height='25px', width='50%'),…"
      ]
     },
     "metadata": {},
     "output_type": "display_data"
    },
    {
     "name": "stdout",
     "output_type": "stream",
     "text": [
      "+-----------+----------+--------------------+--------------------+---------+---------+---------+-----+-------+\n",
      "|location_id|sensors_id|            location|            datetime|      lat|      lon|parameter|units|  value|\n",
      "+-----------+----------+--------------------+--------------------+---------+---------+---------+-----+-------+\n",
      "|      10618|     35276|Kędzierzyn-Koźle,...|2022-05-17T01:00:...|50.349608|18.236575|     pm10|µg/m³|  15.62|\n",
      "|      10618|     35276|Kędzierzyn-Koźle,...|2022-05-17T02:00:...|50.349608|18.236575|     pm10|µg/m³|13.6041|\n",
      "|      10618|     35276|Kędzierzyn-Koźle,...|2022-05-17T03:00:...|50.349608|18.236575|     pm10|µg/m³|13.7349|\n",
      "|      10618|     35276|Kędzierzyn-Koźle,...|2022-05-17T04:00:...|50.349608|18.236575|     pm10|µg/m³|15.1872|\n",
      "|      10618|     35276|Kędzierzyn-Koźle,...|2022-05-17T05:00:...|50.349608|18.236575|     pm10|µg/m³|13.0822|\n",
      "|      10618|     35276|Kędzierzyn-Koźle,...|2022-05-17T06:00:...|50.349608|18.236575|     pm10|µg/m³|14.0526|\n",
      "|      10618|     35276|Kędzierzyn-Koźle,...|2022-05-17T07:00:...|50.349608|18.236575|     pm10|µg/m³|19.2821|\n",
      "|      10618|     35276|Kędzierzyn-Koźle,...|2022-05-17T08:00:...|50.349608|18.236575|     pm10|µg/m³|18.9368|\n",
      "|      10618|     35276|Kędzierzyn-Koźle,...|2022-05-17T09:00:...|50.349608|18.236575|     pm10|µg/m³|15.2887|\n",
      "|      10618|     35276|Kędzierzyn-Koźle,...|2022-05-17T10:00:...|50.349608|18.236575|     pm10|µg/m³|44.2069|\n",
      "+-----------+----------+--------------------+--------------------+---------+---------+---------+-----+-------+"
     ]
    }
   ],
   "source": [
    "smog_df.limit(10).show()"
   ]
  },
  {
   "cell_type": "code",
   "execution_count": null,
   "metadata": {
    "application/vnd.databricks.v1+cell": {
     "cellMetadata": {
      "byteLimit": 2048000,
      "rowLimit": 10000
     },
     "inputWidgets": {},
     "nuid": "31f7b75e-bae5-48de-ae4c-ddd2ec3b52ea",
     "showTitle": false,
     "title": ""
    },
    "execution": {
     "iopub.execute_input": "2022-11-04T19:22:01.456926Z",
     "iopub.status.busy": "2022-11-04T19:22:01.456751Z",
     "iopub.status.idle": "2022-11-04T19:22:24.804450Z",
     "shell.execute_reply": "2022-11-04T19:22:24.803684Z",
     "shell.execute_reply.started": "2022-11-04T19:22:01.456903Z"
    }
   },
   "outputs": [
    {
     "data": {
      "application/vnd.jupyter.widget-view+json": {
       "model_id": "",
       "version_major": 2,
       "version_minor": 0
      },
      "text/plain": [
       "FloatProgress(value=0.0, bar_style='info', description='Progress:', layout=Layout(height='25px', width='50%'),…"
      ]
     },
     "metadata": {},
     "output_type": "display_data"
    },
    {
     "name": "stdout",
     "output_type": "stream",
     "text": [
      "+---------+\n",
      "|parameter|\n",
      "+---------+\n",
      "|       co|\n",
      "|     pm10|\n",
      "|      so2|\n",
      "|      no2|\n",
      "|       bc|\n",
      "|     pm25|\n",
      "|       o3|\n",
      "+---------+"
     ]
    }
   ],
   "source": [
    "smog_df.select('parameter').distinct().show()"
   ]
  },
  {
   "cell_type": "code",
   "execution_count": null,
   "metadata": {
    "application/vnd.databricks.v1+cell": {
     "cellMetadata": {
      "byteLimit": 2048000,
      "rowLimit": 10000
     },
     "inputWidgets": {},
     "nuid": "9fc776b3-7dde-411a-836c-09b0be698814",
     "showTitle": false,
     "title": ""
    },
    "execution": {
     "iopub.execute_input": "2022-11-04T19:23:09.501204Z",
     "iopub.status.busy": "2022-11-04T19:23:09.501004Z",
     "iopub.status.idle": "2022-11-04T19:23:09.569815Z",
     "shell.execute_reply": "2022-11-04T19:23:09.568857Z",
     "shell.execute_reply.started": "2022-11-04T19:23:09.501180Z"
    }
   },
   "outputs": [
    {
     "data": {
      "application/vnd.jupyter.widget-view+json": {
       "model_id": "",
       "version_major": 2,
       "version_minor": 0
      },
      "text/plain": [
       "FloatProgress(value=0.0, bar_style='info', description='Progress:', layout=Layout(height='25px', width='50%'),…"
      ]
     },
     "metadata": {},
     "output_type": "display_data"
    }
   ],
   "source": [
    "from pyspark.sql.functions import col, asc, desc, max"
   ]
  },
  {
   "cell_type": "markdown",
   "metadata": {
    "application/vnd.databricks.v1+cell": {
     "cellMetadata": {
      "byteLimit": 2048000,
      "rowLimit": 10000
     },
     "inputWidgets": {},
     "nuid": "d660c8cd-06b6-495c-be40-63df2b4cd40f",
     "showTitle": false,
     "title": ""
    }
   },
   "source": [
    "### Some more interesting statistics"
   ]
  },
  {
   "cell_type": "code",
   "execution_count": null,
   "metadata": {
    "application/vnd.databricks.v1+cell": {
     "cellMetadata": {
      "byteLimit": 2048000,
      "rowLimit": 10000
     },
     "inputWidgets": {},
     "nuid": "2d66c7bb-941a-4189-8c22-d4b5d286628d",
     "showTitle": false,
     "title": ""
    },
    "execution": {
     "iopub.execute_input": "2022-11-04T19:23:31.245899Z",
     "iopub.status.busy": "2022-11-04T19:23:31.245647Z",
     "iopub.status.idle": "2022-11-04T19:23:31.505221Z",
     "shell.execute_reply": "2022-11-04T19:23:31.504509Z",
     "shell.execute_reply.started": "2022-11-04T19:23:31.245864Z"
    }
   },
   "outputs": [
    {
     "data": {
      "application/vnd.jupyter.widget-view+json": {
       "model_id": "",
       "version_major": 2,
       "version_minor": 0
      },
      "text/plain": [
       "FloatProgress(value=0.0, bar_style='info', description='Progress:', layout=Layout(height='25px', width='50%'),…"
      ]
     },
     "metadata": {},
     "output_type": "display_data"
    },
    {
     "name": "stdout",
     "output_type": "stream",
     "text": [
      "+------------------------------------------------+-----------+\n",
      "|location                                        |max_pm10   |\n",
      "+------------------------------------------------+-----------+\n",
      "|Ballygunge, Kolkata - WBPCB-10918               |9999.9     |\n",
      "|Govt. High School Shikarpur, Patna - BSPCB-10630|5631.1     |\n",
      "|Sanjay Nagar, Ghaziabad - UPPCB-10919           |3490.0     |\n",
      "|New Industrial Town, Faridabad - HSPCB-10920    |2217.0     |\n",
      "|Mundka, Delhi - DPCC-10486                      |1787.0     |\n",
      "|Sector 30, Faridabad - HSPCB-10820              |1309.16    |\n",
      "|Nedre Langgate-10492                            |1187.386375|\n",
      "|Mini Secretariat, Charkhi Dadri - HSPCB-10725   |1186.4     |\n",
      "|Sector 11, Faridabad - HSPCB-10908              |1090.9     |\n",
      "|Rajbansi Nagar, Patna - BSPCB-10599             |1003.2     |\n",
      "|Sector-51, Gurugram - HSPCB-10825               |999.99     |\n",
      "|Rishi Nagar, Kaithal - HSPCB-10905              |999.99     |\n",
      "|Murthal, Sonipat - HSPCB-10906                  |999.99     |\n",
      "|Sector-25, Chandigarh - CPCC-10914              |982.82     |\n",
      "|Najafgarh, Delhi - DPCC-10488                   |941.0      |\n",
      "|Minnesundvegen, Gjøvik-10721                    |937.816941 |\n",
      "|Teri Gram, Gurugram - HSPCB-10900               |931.0      |\n",
      "|Industrial Area, Hajipur - BSPCB-10645          |860.4      |\n",
      "|Sri Aurobindo Marg, Delhi - DPCC-10484          |856.0      |\n",
      "|Muradpur, Patna - BSPCB-10670                   |844.7      |\n",
      "+------------------------------------------------+-----------+\n",
      "only showing top 20 rows\n",
      "\n",
      "2.17325496673584"
     ]
    }
   ],
   "source": [
    "start = time.time()\n",
    "max_pm10 = smog_df.filter(col('parameter')=='pm10')\\\n",
    "            .filter(col('value')>0.0)\\\n",
    "            .groupby('location').agg(max('value').alias('max_pm10'))\\\n",
    "            .sort(desc('max_pm10'))\n",
    "\n",
    "max_pm10.limit(100).show(truncate=False)\n",
    "end = time.time()\n",
    "print(end - start)"
   ]
  },
  {
   "cell_type": "code",
   "execution_count": null,
   "metadata": {
    "application/vnd.databricks.v1+cell": {
     "cellMetadata": {
      "byteLimit": 2048000,
      "rowLimit": 10000
     },
     "inputWidgets": {},
     "nuid": "2c6ff99d-7785-496c-8ca9-c601b58348d7",
     "showTitle": false,
     "title": ""
    },
    "execution": {
     "iopub.execute_input": "2022-11-04T19:23:56.854730Z",
     "iopub.status.busy": "2022-11-04T19:23:56.854478Z",
     "iopub.status.idle": "2022-11-04T19:23:56.910195Z",
     "shell.execute_reply": "2022-11-04T19:23:56.909522Z",
     "shell.execute_reply.started": "2022-11-04T19:23:56.854696Z"
    }
   },
   "outputs": [
    {
     "data": {
      "application/vnd.jupyter.widget-view+json": {
       "model_id": "",
       "version_major": 2,
       "version_minor": 0
      },
      "text/plain": [
       "FloatProgress(value=0.0, bar_style='info', description='Progress:', layout=Layout(height='25px', width='50%'),…"
      ]
     },
     "metadata": {},
     "output_type": "display_data"
    },
    {
     "name": "stdout",
     "output_type": "stream",
     "text": [
      "+--------------------------------+\n",
      "|location                        |\n",
      "+--------------------------------+\n",
      "|Kraków, ul. Bulwarowa-10516     |\n",
      "|Kraków, Aleja Krasińskiego-10752|\n",
      "+--------------------------------+"
     ]
    }
   ],
   "source": [
    "smog_df.filter(col('location').contains('Krak')).select('location').distinct().show(truncate=False)"
   ]
  },
  {
   "cell_type": "code",
   "execution_count": null,
   "metadata": {},
   "outputs": [
    {
     "data": {
      "application/vnd.jupyter.widget-view+json": {
       "model_id": "",
       "version_major": 2,
       "version_minor": 0
      },
      "text/plain": [
       "FloatProgress(value=0.0, bar_style='info', description='Progress:', layout=Layout(height='25px', width='50%'),…"
      ]
     },
     "metadata": {},
     "output_type": "display_data"
    },
    {
     "name": "stdout",
     "output_type": "stream",
     "text": [
      "root\n",
      " |-- location: string (nullable = true)\n",
      " |-- max_pm10: double (nullable = true)"
     ]
    }
   ],
   "source": [
    "max_pm10.printSchema()"
   ]
  },
  {
   "cell_type": "code",
   "execution_count": null,
   "metadata": {
    "application/vnd.databricks.v1+cell": {
     "cellMetadata": {
      "byteLimit": 2048000,
      "rowLimit": 10000
     },
     "inputWidgets": {},
     "nuid": "27ace623-a54c-4cf1-955d-3049076fe6a5",
     "showTitle": false,
     "title": ""
    },
    "execution": {
     "iopub.execute_input": "2022-11-04T19:23:58.183292Z",
     "iopub.status.busy": "2022-11-04T19:23:58.183119Z",
     "iopub.status.idle": "2022-11-04T19:23:58.442767Z",
     "shell.execute_reply": "2022-11-04T19:23:58.441832Z",
     "shell.execute_reply.started": "2022-11-04T19:23:58.183271Z"
    }
   },
   "outputs": [
    {
     "data": {
      "application/vnd.jupyter.widget-view+json": {
       "model_id": "",
       "version_major": 2,
       "version_minor": 0
      },
      "text/plain": [
       "FloatProgress(value=0.0, bar_style='info', description='Progress:', layout=Layout(height='25px', width='50%'),…"
      ]
     },
     "metadata": {},
     "output_type": "display_data"
    },
    {
     "name": "stdout",
     "output_type": "stream",
     "text": [
      "<Axes: ylabel='location'>"
     ]
    }
   ],
   "source": [
    "plt.figure()\n",
    "max_pm10.limit(10).toPandas().plot.barh(x='location')"
   ]
  },
  {
   "cell_type": "code",
   "execution_count": null,
   "metadata": {},
   "outputs": [
    {
     "data": {
      "application/vnd.jupyter.widget-view+json": {
       "model_id": "",
       "version_major": 2,
       "version_minor": 0
      },
      "text/plain": [
       "FloatProgress(value=0.0, bar_style='info', description='Progress:', layout=Layout(height='25px', width='50%'),…"
      ]
     },
     "metadata": {},
     "output_type": "display_data"
    },
    {
     "data": {
      "image/png": "[encoded data removed]",
      "text/plain": [
       "<IPython.core.display.Image object>"
      ]
     },
     "metadata": {},
     "output_type": "display_data"
    }
   ],
   "source": [
    "# On EMR we need this magic to show the plot\n",
    "%matplot plt"
   ]
  },
  {
   "cell_type": "markdown",
   "metadata": {},
   "source": [
    "[1p.] Znajdź miasta w Polsce, w których średnie stężenie pyłu “pm25” było niższe niż maksymalne stężenie w Berlinie (w całym badanym okresie). Obliczenia wykonaj dla danych z kilku dni. Wyniki posortuj malejąco po stężeniu pm25.\n",
    "\n",
    "szukam miasta ktore maja "
   ]
  },
  {
   "cell_type": "code",
   "execution_count": null,
   "metadata": {},
   "outputs": [
    {
     "data": {
      "application/vnd.jupyter.widget-view+json": {
       "model_id": "",
       "version_major": 2,
       "version_minor": 0
      },
      "text/plain": [
       "FloatProgress(value=0.0, bar_style='info', description='Progress:', layout=Layout(height='25px', width='50%'),…"
      ]
     },
     "metadata": {},
     "output_type": "display_data"
    },
    {
     "name": "stdout",
     "output_type": "stream",
     "text": [
      "+--------------------+---------+\n",
      "|            location|max_value|\n",
      "+--------------------+---------+\n",
      "|Kraków, ul. Bulwa...|  51.5312|\n",
      "|Kraków, Aleja Kra...|  46.1388|\n",
      "+--------------------+---------+\n",
      "\n",
      "+--------------------+------------------+\n",
      "|            location|     average_value|\n",
      "+--------------------+------------------+\n",
      "|Kalisz, ul. Wyszy...|14.556001503006014|\n",
      "|Jelenia Góra, ul....|11.527470819999998|\n",
      "|Elbląg, ul. Bażyń...| 7.518553060000003|\n",
      "|Kędzierzyn-Koźle,...| 8.923870476190476|\n",
      "| Olsztyn, ul. Pus...| 6.978349100529101|\n",
      "|Gdańsk, ul. Leczk...|10.657297656903767|\n",
      "|Wrocław, wyb. Con...|10.537640959999997|\n",
      "|Wschowa ul. Kazim...| 9.890955895372235|\n",
      "|Poznań, ul. Dąbro...| 9.932123126252506|\n",
      "|       RS0036A-10879| 12.27520497487437|\n",
      "|Ostróda, ul. Piłs...|10.936172159827215|\n",
      "|Otwock, ul. Brzoz...| 11.46382450331126|\n",
      "|Gdynia, ul. Poręb...| 9.883307821576764|\n",
      "|Złoty Potok, Leśn...|11.443194705882355|\n",
      "|Kraków, ul. Bulwa...|  9.53670564912281|\n",
      "|       RS0033A-10858| 11.91878305220884|\n",
      "|Przemyśl, ul. Gru...| 6.097711648177495|\n",
      "|Płock, ul. Reja-1...| 7.003782696177062|\n",
      "|Sofienbergparken-...| 4.226242353049907|\n",
      "|Gdańsk, ul. Powst...|11.998340062240665|\n",
      "+--------------------+------------------+\n",
      "only showing top 20 rows\n",
      "\n",
      "179\n",
      "2.247354507446289"
     ]
    }
   ],
   "source": [
    "start = time.time()\n",
    "\n",
    "pm_data_df = smog_df.filter(col('parameter') == \"pm25\")\n",
    "\n",
    "#average from KRakow\n",
    "\n",
    "krakow_avg = pm_data_df.filter(col('location').contains('Krak')).select('location', 'value').groupby('location').agg(max('value').alias(\"max_value\"))\n",
    "krakow_avg.show()\n",
    "\n",
    "towns_w_avg_smaller_than_Krak_max = pm_data_df.select('location', 'value')\\\n",
    "                                    .groupby('location').agg(mean('value').alias(\"average_value\"))\\\n",
    "                                    .filter(col('average_value') < krakow_avg.first()[\"max_value\"])\n",
    "\n",
    "towns_w_avg_smaller_than_Krak_max.show()\n",
    "\n",
    "end = time.time()\n",
    "print(towns_w_avg_smaller_than_Krak_max.count())\n",
    "print(end - start)"
   ]
  },
  {
   "cell_type": "markdown",
   "metadata": {},
   "source": [
    "[1p.] Dla danych z wybranych kilku dni przedstaw w ujęciu godzinowym (wybierz czas UTC) najwyższe zanotowane stężenie pm10 w poszczególnych miastach z całego zbioru danych. Wyniki posortuj po rosnąco datach.\n"
   ]
  },
  {
   "cell_type": "code",
   "execution_count": null,
   "metadata": {},
   "outputs": [
    {
     "data": {
      "application/vnd.jupyter.widget-view+json": {
       "model_id": "",
       "version_major": 2,
       "version_minor": 0
      },
      "text/plain": [
       "FloatProgress(value=0.0, bar_style='info', description='Progress:', layout=Layout(height='25px', width='50%'),…"
      ]
     },
     "metadata": {},
     "output_type": "display_data"
    },
    {
     "name": "stdout",
     "output_type": "stream",
     "text": [
      "107756\n",
      "+--------------------+-------------------+--------+\n",
      "|            location|      datetime_hour|max_pm10|\n",
      "+--------------------+-------------------+--------+\n",
      "|Mundka, Delhi - D...|2022-04-30 18:00:00|  1157.0|\n",
      "|Thavakkara, Kannu...|2022-04-30 18:00:00|   66.32|\n",
      "|Rabindra Sarobar,...|2022-04-30 18:00:00|    37.4|\n",
      "|Ghusuri, Howrah -...|2022-04-30 18:00:00|   48.76|\n",
      "|Muradpur, Patna -...|2022-04-30 18:00:00|   159.8|\n",
      "|Ghusuri, Howrah -...|2022-04-30 19:00:00|   48.14|\n",
      "|Hebbal 1st Stage,...|2022-04-30 19:00:00|   50.18|\n",
      "|Mini Secretariat,...|2022-04-30 19:00:00|   175.6|\n",
      "|Thavakkara, Kannu...|2022-04-30 19:00:00|    59.0|\n",
      "|Polayathode, Koll...|2022-04-30 19:00:00|   85.24|\n",
      "|Rabindra Sarobar,...|2022-04-30 19:00:00|    36.3|\n",
      "|Industrial Area, ...|2022-04-30 19:00:00|    78.6|\n",
      "|Buddha Colony, Mu...|2022-04-30 19:00:00|   44.93|\n",
      "|ICRISAT Patancher...|2022-04-30 19:00:00|   120.0|\n",
      "|Teri Gram, Gurugr...|2022-04-30 19:00:00|   198.0|\n",
      "|Muradpur, Patna -...|2022-04-30 19:00:00|   278.1|\n",
      "|Mundka, Delhi - D...|2022-04-30 19:00:00|  1047.0|\n",
      "|Industrial Area, ...|2022-04-30 20:00:00|    74.5|\n",
      "|Buddha Colony, Mu...|2022-04-30 20:00:00|   37.56|\n",
      "|Hebbal 1st Stage,...|2022-04-30 20:00:00|   39.25|\n",
      "+--------------------+-------------------+--------+\n",
      "only showing top 20 rows"
     ]
    }
   ],
   "source": [
    "from pyspark.sql.functions import col, max, date_trunc, to_timestamp\n",
    "\n",
    "pm10_data = smog_df.filter(col(\"parameter\") == \"pm10\")\n",
    "pm10_data = pm10_data.withColumn(\"datetime\", to_timestamp(col(\"datetime\")))\n",
    "\n",
    "pm10_hourly = (\n",
    "    pm10_data\n",
    "    .groupby(\"location\", date_trunc(\"hour\", col(\"datetime\")).alias(\"datetime_hour\"))\n",
    "    .agg(max(\"value\").alias(\"max_pm10\"))\n",
    ")\n",
    "pm10_hourly_sorted = pm10_hourly.orderBy(\"datetime_hour\", ascending=True)\n",
    "print(pm10_hourly_sorted.count())\n",
    "pm10_hourly_sorted.show()\n"
   ]
  },
  {
   "cell_type": "markdown",
   "metadata": {},
   "source": [
    "[1p.] Znajdź ranking miast w Europie pod względem średniego zanieczyszczenia liczonego dla N najwyższych pomiarów pod względem “pm25” dla danych z kilku dni. \n"
   ]
  },
  {
   "cell_type": "code",
   "execution_count": null,
   "metadata": {},
   "outputs": [
    {
     "data": {
      "application/vnd.jupyter.widget-view+json": {
       "model_id": "",
       "version_major": 2,
       "version_minor": 0
      },
      "text/plain": [
       "FloatProgress(value=0.0, bar_style='info', description='Progress:', layout=Layout(height='25px', width='50%'),…"
      ]
     },
     "metadata": {},
     "output_type": "display_data"
    },
    {
     "name": "stdout",
     "output_type": "stream",
     "text": [
      "+--------------------+------------------+\n",
      "|            location|      avg_top_pm25|\n",
      "+--------------------+------------------+\n",
      "|Muradpur, Patna -...|2881.0299999999997|\n",
      "|Minnesundvegen, G...| 632.6580488000002|\n",
      "|New Industrial To...|            584.65|\n",
      "|Sanjay Nagar, Gha...|             561.5|\n",
      "|Sector 11, Farida...|502.66999999999996|\n",
      "|Mini Secretariat,...|458.41999999999996|\n",
      "|Govt. High School...|341.72999999999996|\n",
      "|Mundka, Delhi - D...|             321.3|\n",
      "|Narela, Delhi - D...|             278.8|\n",
      "|Sector-51, Gurugr...|           266.883|\n",
      "|Teri Gram, Gurugr...|            259.62|\n",
      "|Padre Las Casas I...|             245.9|\n",
      "|ITO, Delhi - CPCB...|             243.6|\n",
      "|Industrial Area, ...|214.54900000000004|\n",
      "|Najafgarh, Delhi ...|             201.9|\n",
      "|Civil Lines,  Ajm...|199.89000000000004|\n",
      "|       Smestad-10894|188.16804739999998|\n",
      "|Sector 30, Farida...|           186.875|\n",
      "|City Center, Gwal...|             164.5|\n",
      "|Rohini, Delhi - D...|             162.3|\n",
      "+--------------------+------------------+\n",
      "only showing top 20 rows"
     ]
    }
   ],
   "source": [
    "from pyspark.sql.functions import col, avg\n",
    "from pyspark.sql.window import Window\n",
    "from pyspark.sql.functions import row_number\n",
    "\n",
    "\n",
    "def zad3(N, dataframe):\n",
    "    pm25_data = dataframe.filter(col(\"parameter\") == \"pm25\")\n",
    "\n",
    "    window_spec = Window.partitionBy(\"location\").orderBy(col(\"value\").desc())\n",
    "    top_pm25_measurements = pm25_data\n",
    "                            .withColumn(\"rank\", row_number().over(window_spec))\n",
    "                            .filter(col(\"rank\") <= N)\n",
    "    city_avg_top_pm25 = top_pm25_measurements\n",
    "                        .groupby(\"location\")\n",
    "                        .agg(avg(\"value\").alias(\"avg_top_pm25\"))\n",
    "\n",
    "    city_ranking = city_avg_top_pm25.orderBy(col(\"avg_top_pm25\").desc())\n",
    "\n",
    "    # Show the result\n",
    "    city_ranking.show()\n",
    "zad3(10, smog_df)"
   ]
  },
  {
   "cell_type": "markdown",
   "metadata": {},
   "source": [
    "[2p.] Zwizualizuj na mapie średnie zanieczyszczenie w danym kraju dla wybranych kilku dni względem czasu (mapa + slider czasu albo zbiór klatek i animacja) dla wybranych państw.\n",
    "\n"
   ]
  },
  {
   "cell_type": "code",
   "execution_count": null,
   "metadata": {},
   "outputs": [
    {
     "data": {
      "application/vnd.jupyter.widget-view+json": {
       "model_id": "",
       "version_major": 2,
       "version_minor": 0
      },
      "text/plain": [
       "FloatProgress(value=0.0, bar_style='info', description='Progress:', layout=Layout(height='25px', width='50%'),…"
      ]
     },
     "metadata": {},
     "output_type": "display_data"
    },
    {
     "name": "stdout",
     "output_type": "stream",
     "text": [
      "Collecting plotly\n",
      "  Downloading plotly-5.24.1-py3-none-any.whl (19.1 MB)\n",
      "Requirement already satisfied: packaging in ./tmp/spark-eee4bcd1-8d9e-48c2-a6ac-9ba66dbcb3d0/lib/python3.9/site-packages (from plotly) (24.2)\n",
      "Collecting tenacity>=6.2.0\n",
      "  Downloading tenacity-9.0.0-py3-none-any.whl (28 kB)\n",
      "Installing collected packages: tenacity, plotly\n",
      "Successfully installed plotly-5.24.1 tenacity-9.0.0\n",
      "\n",
      "WARNING: The directory '/home/.cache/pip' or its parent directory is not owned or is not writable by the current user. The cache has been disabled. Check the permissions and owner of that directory. If executing pip with sudo, you should use sudo's -H flag."
     ]
    }
   ],
   "source": [
    "sc.install_pypi_package(\"plotly\")\n"
   ]
  },
  {
   "cell_type": "code",
   "execution_count": null,
   "metadata": {},
   "outputs": [
    {
     "data": {
      "application/vnd.jupyter.widget-view+json": {
       "model_id": "",
       "version_major": 2,
       "version_minor": 0
      },
      "text/plain": [
       "FloatProgress(value=0.0, bar_style='info', description='Progress:', layout=Layout(height='25px', width='50%'),…"
      ]
     },
     "metadata": {},
     "output_type": "display_data"
    },
    {
     "name": "stdout",
     "output_type": "stream",
     "text": [
      "Collecting folium\n",
      "  Downloading folium-0.18.0-py2.py3-none-any.whl (108 kB)\n",
      "Requirement already satisfied: numpy in ./tmp/spark-eee4bcd1-8d9e-48c2-a6ac-9ba66dbcb3d0/lib64/python3.9/site-packages (from folium) (2.0.2)\n",
      "Requirement already satisfied: requests in /usr/lib/python3.9/site-packages (from folium) (2.25.1)\n",
      "Collecting xyzservices\n",
      "  Downloading xyzservices-2024.9.0-py3-none-any.whl (85 kB)\n",
      "Collecting branca>=0.6.0\n",
      "  Downloading branca-0.8.0-py3-none-any.whl (25 kB)\n",
      "Requirement already satisfied: jinja2>=2.9 in /usr/lib/python3.9/site-packages (from folium) (2.11.3)\n",
      "Collecting jinja2>=2.9\n",
      "  Downloading jinja2-3.1.4-py3-none-any.whl (133 kB)\n",
      "Collecting MarkupSafe>=2.0\n",
      "  Downloading MarkupSafe-3.0.2-cp39-cp39-manylinux_2_17_x86_64.manylinux2014_x86_64.whl (20 kB)\n",
      "Requirement already satisfied: idna<3,>=2.5 in /usr/lib/python3.9/site-packages (from requests->folium) (2.10)\n",
      "Requirement already satisfied: urllib3<1.27,>=1.21.1 in /usr/lib/python3.9/site-packages (from requests->folium) (1.25.10)\n",
      "Requirement already satisfied: chardet<5,>=3.0.2 in /usr/lib/python3.9/site-packages (from requests->folium) (4.0.0)\n",
      "Installing collected packages: MarkupSafe, jinja2, xyzservices, branca, folium\n",
      "  Attempting uninstall: MarkupSafe\n",
      "    Found existing installation: MarkupSafe 1.1.1\n",
      "    Not uninstalling markupsafe at /usr/lib64/python3.9/site-packages, outside environment /mnt1/yarn/usercache/livy/appcache/application_1731069217847_0005/container_1731069217847_0005_01_000001/tmp/spark-eee4bcd1-8d9e-48c2-a6ac-9ba66dbcb3d0\n",
      "    Can't uninstall 'MarkupSafe'. No files were found to uninstall.\n",
      "  Attempting uninstall: jinja2\n",
      "    Found existing installation: Jinja2 2.11.3\n",
      "    Not uninstalling jinja2 at /usr/lib/python3.9/site-packages, outside environment /mnt1/yarn/usercache/livy/appcache/application_1731069217847_0005/container_1731069217847_0005_01_000001/tmp/spark-eee4bcd1-8d9e-48c2-a6ac-9ba66dbcb3d0\n",
      "    Can't uninstall 'Jinja2'. No files were found to uninstall.\n",
      "Successfully installed MarkupSafe-3.0.2 branca-0.8.0 folium-0.18.0 jinja2-3.1.4 xyzservices-2024.9.0\n",
      "\n",
      "WARNING: The directory '/home/.cache/pip' or its parent directory is not owned or is not writable by the current user. The cache has been disabled. Check the permissions and owner of that directory. If executing pip with sudo, you should use sudo's -H flag."
     ]
    }
   ],
   "source": [
    "sc.install_pypi_package(\"folium\")\n"
   ]
  },
  {
   "cell_type": "code",
   "execution_count": null,
   "metadata": {},
   "outputs": [
    {
     "data": {
      "application/vnd.jupyter.widget-view+json": {
       "model_id": "",
       "version_major": 2,
       "version_minor": 0
      },
      "text/plain": [
       "FloatProgress(value=0.0, bar_style='info', description='Progress:', layout=Layout(height='25px', width='50%'),…"
      ]
     },
     "metadata": {},
     "output_type": "display_data"
    },
    {
     "name": "stdout",
     "output_type": "stream",
     "text": [
      "+-----------+-------------------+------------------+---------------+----------------+\n",
      "|   location|               date| average_pollution|            lat|             lon|\n",
      "+-----------+-------------------+------------------+---------------+----------------+\n",
      "|Arica-10653|2022-05-06 00:00:00|              28.0|-18.47683929771|-70.287911433372|\n",
      "|Arica-10653|2022-05-05 00:00:00|28.818181818181817|-18.47683929771|-70.287911433372|\n",
      "|Arica-10653|2022-05-17 00:00:00|27.458333333333332|-18.47683929771|-70.287911433372|\n",
      "|Arica-10653|2022-05-18 00:00:00|28.416666666666668|-18.47683929771|-70.287911433372|\n",
      "|Arica-10653|2022-05-19 00:00:00|              26.0|-18.47683929771|-70.287911433372|\n",
      "|Arica-10653|2022-05-16 00:00:00|24.136363636363637|-18.47683929771|-70.287911433372|\n",
      "|Arica-10653|2022-06-01 00:00:00|              20.0|-18.47683929771|-70.287911433372|\n",
      "|Arica-10653|2022-05-31 00:00:00|             20.75|-18.47683929771|-70.287911433372|\n",
      "|Arica-10653|2022-05-26 00:00:00|21.666666666666668|-18.47683929771|-70.287911433372|\n",
      "|Arica-10653|2022-05-13 00:00:00|22.791666666666668|-18.47683929771|-70.287911433372|\n",
      "|Arica-10653|2022-05-30 00:00:00|19.863636363636363|-18.47683929771|-70.287911433372|\n",
      "|Arica-10653|2022-05-07 00:00:00|22.318181818181817|-18.47683929771|-70.287911433372|\n",
      "|Arica-10653|2022-05-10 00:00:00|20.083333333333332|-18.47683929771|-70.287911433372|\n",
      "|Arica-10653|2022-05-09 00:00:00|20.545454545454547|-18.47683929771|-70.287911433372|\n",
      "|Arica-10653|2022-05-27 00:00:00|23.208333333333332|-18.47683929771|-70.287911433372|\n",
      "|Arica-10653|2022-05-08 00:00:00|              20.5|-18.47683929771|-70.287911433372|\n",
      "|Arica-10653|2022-05-22 00:00:00|              26.0|-18.47683929771|-70.287911433372|\n",
      "|Arica-10653|2022-05-21 00:00:00|26.045454545454547|-18.47683929771|-70.287911433372|\n",
      "|Arica-10653|2022-05-14 00:00:00|22.541666666666668|-18.47683929771|-70.287911433372|\n",
      "|Arica-10653|2022-05-24 00:00:00| 22.59090909090909|-18.47683929771|-70.287911433372|\n",
      "+-----------+-------------------+------------------+---------------+----------------+\n",
      "only showing top 20 rows"
     ]
    }
   ],
   "source": [
    "from pyspark.sql.functions import col, date_trunc, mean\n",
    "\n",
    "filtered_df = smog_df.filter(col(\"parameter\") == \"pm25\")\n",
    "\n",
    "filtered_df = filtered_df.withColumn(\"date\", date_trunc(\"day\", col(\"datetime\")))\n",
    "\n",
    "aggregated_df = filtered_df.groupBy(\"location\", \"date\").agg(\n",
    "    mean(\"value\").alias(\"average_pollution\")\n",
    ")\n",
    "\n",
    "locations_with_coords_df = aggregated_df.join(\n",
    "    smog_df.select(\"location\", \"lat\", \"lon\").distinct(),\n",
    "    on=\"location\",\n",
    "    how=\"left\"\n",
    ")\n",
    "\n",
    "locations_with_coords_df = locations_with_coords_df.filter(\n",
    "    locations_with_coords_df.lat.isNotNull() & locations_with_coords_df.lon.isNotNull()\n",
    ")\n",
    "\n",
    "locations_with_coords_df.show()\n"
   ]
  },
  {
   "cell_type": "code",
   "execution_count": null,
   "metadata": {},
   "outputs": [
    {
     "data": {
      "application/vnd.jupyter.widget-view+json": {
       "model_id": "",
       "version_major": 2,
       "version_minor": 0
      },
      "text/plain": [
       "FloatProgress(value=0.0, bar_style='info', description='Progress:', layout=Layout(height='25px', width='50%'),…"
      ]
     },
     "metadata": {},
     "output_type": "display_data"
    },
    {
     "name": "stdout",
     "output_type": "stream",
     "text": [
      "<folium.folium.Map object at 0x7f0c9c279280>"
     ]
    }
   ],
   "source": [
    "import folium\n",
    "\n",
    "# Create an initial world map\n",
    "world_map = folium.Map(zoom_start=2)\n",
    "\n",
    "# Iterate through the rows of the DataFrame and add markers to the map\n",
    "for row in locations_with_coords_df.collect():\n",
    "    location = row['location']\n",
    "    lat = row['lat']\n",
    "    lon = row['lon']\n",
    "    avg_pollution = row['average_pollution']\n",
    "    \n",
    "    # Create a marker with popup showing the location and average pollution\n",
    "    folium.Marker(\n",
    "        location=[lat, lon], \n",
    "        popup=f\"{location}: {avg_pollution:.2f} µg/m³\",\n",
    "        icon=folium.Icon(color='blue')\n",
    "    ).add_to(world_map)\n",
    "\n",
    "# Save the map to an HTML file\n",
    "world_map.save(\"pollution_map.html\")\n",
    "\n",
    "# Display the map in the notebook\n",
    "world_map\n"
   ]
  },
  {
   "cell_type": "code",
   "execution_count": null,
   "metadata": {},
   "outputs": [
    {
     "name": "stdout",
     "output_type": "stream",
     "text": [
      "Requirement already satisfied: geopandas in /opt/mamba/lib/python3.9/site-packages (1.0.1)\n",
      "Requirement already satisfied: numpy>=1.22 in /opt/mamba/lib/python3.9/site-packages (from geopandas) (1.26.4)\n",
      "Requirement already satisfied: pyogrio>=0.7.2 in /opt/mamba/lib/python3.9/site-packages (from geopandas) (0.10.0)\n",
      "Requirement already satisfied: packaging in /opt/mamba/lib/python3.9/site-packages (from geopandas) (23.2)\n",
      "Requirement already satisfied: pandas>=1.4.0 in /opt/mamba/lib/python3.9/site-packages (from geopandas) (1.4.4)\n",
      "Requirement already satisfied: pyproj>=3.3.0 in /opt/mamba/lib/python3.9/site-packages (from geopandas) (3.6.1)\n",
      "Requirement already satisfied: shapely>=2.0.0 in /opt/mamba/lib/python3.9/site-packages (from geopandas) (2.0.6)\n",
      "Requirement already satisfied: python-dateutil>=2.8.1 in /opt/mamba/lib/python3.9/site-packages (from pandas>=1.4.0->geopandas) (2.8.2)\n",
      "Requirement already satisfied: pytz>=2020.1 in /opt/mamba/lib/python3.9/site-packages (from pandas>=1.4.0->geopandas) (2024.1)\n",
      "Requirement already satisfied: certifi in /opt/mamba/lib/python3.9/site-packages (from pyogrio>=0.7.2->geopandas) (2024.2.2)\n",
      "Requirement already satisfied: six>=1.5 in /opt/mamba/lib/python3.9/site-packages (from python-dateutil>=2.8.1->pandas>=1.4.0->geopandas) (1.16.0)\n",
      "Note: you may need to restart the kernel to use updated packages.\n"
     ]
    }
   ],
   "source": []
  },
  {
   "cell_type": "markdown",
   "metadata": {},
   "source": [
    "[3p.] Korzystanie z klastra dla dużych danych\n",
    "Proszę wykonać zadanie 1 dla danych o tak dobranym rozmiarze, żeby czas zapytania wynosił co najmniej 10 minut. Zmierzyć czas wykonania.\n",
    "Zwiększyć klaster do 2, 3, 4, 5, 6, 7 instancji workerów i zmierzyć czasy wykonania.\n",
    "Narysować wykresy czasu, przyspieszenia, efektywności (time, speedup, efficiency)."
   ]
  },
  {
   "cell_type": "code",
   "execution_count": null,
   "metadata": {},
   "outputs": [
    {
     "data": {
      "application/vnd.jupyter.widget-view+json": {
       "model_id": "",
       "version_major": 2,
       "version_minor": 0
      },
      "text/plain": [
       "FloatProgress(value=0.0, bar_style='info', description='Progress:', layout=Layout(height='25px', width='50%'),…"
      ]
     },
     "metadata": {},
     "output_type": "display_data"
    },
    {
     "name": "stdout",
     "output_type": "stream",
     "text": [
      "433.15549182891846"
     ]
    }
   ],
   "source": [
    "start = time.time()\n",
    "\n",
    "smog_df = spark \\\n",
    "    .read \\\n",
    "    .format(\"csv\") \\\n",
    "    .option(\"compression\", \"gzip\") \\\n",
    "    .option(\"header\", True) \\\n",
    "    .load(\"s3a://openaq-data-archive/records/csv.gz/locationid=10*/year=2022/month={01,02,03,04}/*.csv.gz\")\n",
    "\n",
    "\n",
    "end = time.time()\n",
    "print(end - start)"
   ]
  },
  {
   "cell_type": "code",
   "execution_count": null,
   "metadata": {},
   "outputs": [
    {
     "data": {
      "application/vnd.jupyter.widget-view+json": {
       "model_id": "",
       "version_major": 2,
       "version_minor": 0
      },
      "text/plain": [
       "FloatProgress(value=0.0, bar_style='info', description='Progress:', layout=Layout(height='25px', width='50%'),…"
      ]
     },
     "metadata": {},
     "output_type": "display_data"
    }
   ],
   "source": [
    "smog_df = smog_df.withColumn(\"datetime\", to_timestamp(col(\"datetime\")))\n"
   ]
  },
  {
   "cell_type": "code",
   "execution_count": null,
   "metadata": {},
   "outputs": [
    {
     "data": {
      "application/vnd.jupyter.widget-view+json": {
       "model_id": "932f25bf56fa4f72a4065aa3980fb7f0",
       "version_major": 2,
       "version_minor": 0
      },
      "text/plain": [
       "FloatProgress(value=0.0, bar_style='info', description='Progress:', layout=Layout(height='25px', width='50%'),…"
      ]
     },
     "metadata": {},
     "output_type": "display_data"
    },
    {
     "name": "stderr",
     "output_type": "stream",
     "text": [
      "Interrupted by user\n"
     ]
    }
   ],
   "source": [
    "smog_df.count()"
   ]
  },
  {
   "cell_type": "code",
   "execution_count": null,
   "metadata": {},
   "outputs": [
    {
     "data": {
      "application/vnd.jupyter.widget-view+json": {
       "model_id": "d6bc437e349d42629f1cda793432699b",
       "version_major": 2,
       "version_minor": 0
      },
      "text/plain": [
       "FloatProgress(value=0.0, bar_style='info', description='Progress:', layout=Layout(height='25px', width='50%'),…"
      ]
     },
     "metadata": {},
     "output_type": "display_data"
    },
    {
     "name": "stderr",
     "output_type": "stream",
     "text": [
      "Interrupted by user\n"
     ]
    }
   ],
   "source": [
    "from datetime import datetime\n",
    "\n",
    "smog_df = smog_df.filter(col(\"datetime\") < datetime(2022, 6, 1))\n",
    "smog_df.collect()"
   ]
  },
  {
   "cell_type": "code",
   "execution_count": null,
   "metadata": {},
   "outputs": [
    {
     "data": {
      "application/vnd.jupyter.widget-view+json": {
       "model_id": "",
       "version_major": 2,
       "version_minor": 0
      },
      "text/plain": [
       "FloatProgress(value=0.0, bar_style='info', description='Progress:', layout=Layout(height='25px', width='50%'),…"
      ]
     },
     "metadata": {},
     "output_type": "display_data"
    }
   ],
   "source": [
    "cluster_statistics = {}"
   ]
  },
  {
   "cell_type": "code",
   "execution_count": null,
   "metadata": {},
   "outputs": [
    {
     "data": {
      "application/vnd.jupyter.widget-view+json": {
       "model_id": "",
       "version_major": 2,
       "version_minor": 0
      },
      "text/plain": [
       "FloatProgress(value=0.0, bar_style='info', description='Progress:', layout=Layout(height='25px', width='50%'),…"
      ]
     },
     "metadata": {},
     "output_type": "display_data"
    }
   ],
   "source": [
    "from pyspark.sql.functions import col, max, date_trunc, to_timestamp\n",
    "\n",
    "\n",
    "def run_test(n_clusters):\n",
    "    start_time = time.time()\n",
    "\n",
    "    pm10_data = smog_df.filter(col(\"parameter\") == \"pm10\")\n",
    "    pm10_data = pm10_data.withColumn(\"datetime\", to_timestamp(col(\"datetime\")))\n",
    "    pm10_data = pm10_data.repartition(n_clusters, col(\"location\"))\n",
    "\n",
    "    pm10_hourly = (\n",
    "        pm10_data\n",
    "        .groupby(\"location\", date_trunc(\"hour\", col(\"datetime\")).alias(\"datetime_hour\"))\n",
    "        .agg(max(\"value\").alias(\"max_pm10\"))\n",
    "    )\n",
    "    pm10_hourly_sorted = pm10_hourly.orderBy(\"datetime_hour\", ascending=True)\n",
    "    print(pm10_hourly_sorted.count())\n",
    "    end_time = time.time()\n",
    "    duration = end_time - start_time\n",
    "    pm10_hourly_sorted.show()\n",
    "    cluster_statistics[n_clusters] = duration\n",
    "    print(f\"Number of workers: {n_clusters}, Execution Time: {duration} seconds\")\n"
   ]
  },
  {
   "cell_type": "code",
   "execution_count": null,
   "metadata": {},
   "outputs": [
    {
     "data": {
      "application/vnd.jupyter.widget-view+json": {
       "model_id": "",
       "version_major": 2,
       "version_minor": 0
      },
      "text/plain": [
       "FloatProgress(value=0.0, bar_style='info', description='Progress:', layout=Layout(height='25px', width='50%'),…"
      ]
     },
     "metadata": {},
     "output_type": "display_data"
    },
    {
     "name": "stdout",
     "output_type": "stream",
     "text": [
      "343775\n",
      "+--------------------+-------------------+--------+\n",
      "|            location|      datetime_hour|max_pm10|\n",
      "+--------------------+-------------------+--------+\n",
      "|     Dandenong-10868|2021-12-31 14:00:00|   33.86|\n",
      "|      Brooklyn-10826|2021-12-31 14:00:00|   31.97|\n",
      "|    Alphington-10494|2021-12-31 14:00:00|   23.14|\n",
      "|     Footscray-10584|2021-12-31 14:00:00|   33.06|\n",
      "| Geelong South-10869|2021-12-31 14:00:00|   21.78|\n",
      "|   Mooroolbark-10688|2021-12-31 14:00:00|   49.15|\n",
      "|  Morwell East-10678|2021-12-31 14:00:00|   52.91|\n",
      "|     Traralgon-10771|2021-12-31 14:00:00|    27.5|\n",
      "|        Yinnar-10819|2021-12-31 14:00:00|     0.0|\n",
      "|      Hopeland-10574|2021-12-31 15:00:00|     5.9|\n",
      "|    Alphington-10494|2021-12-31 15:00:00|   31.98|\n",
      "|     Footscray-10584|2021-12-31 15:00:00|   48.11|\n",
      "| Geelong South-10869|2021-12-31 15:00:00|   20.33|\n",
      "| Miles Airport-10734|2021-12-31 15:00:00|     6.5|\n",
      "|     Dandenong-10868|2021-12-31 15:00:00|   28.72|\n",
      "|   Mooroolbark-10688|2021-12-31 15:00:00|   38.31|\n",
      "|Moranbah (Cunning...|2021-12-31 15:00:00|    17.9|\n",
      "|      Brooklyn-10826|2021-12-31 15:00:00|   41.09|\n",
      "|  Morwell East-10678|2021-12-31 15:00:00|   55.59|\n",
      "|     Traralgon-10771|2021-12-31 15:00:00|   27.07|\n",
      "+--------------------+-------------------+--------+\n",
      "only showing top 20 rows\n",
      "\n",
      "Number of workers: 1, Execution Time: 390.35688376426697 seconds"
     ]
    }
   ],
   "source": [
    "run_test(1)"
   ]
  },
  {
   "cell_type": "code",
   "execution_count": null,
   "metadata": {},
   "outputs": [
    {
     "data": {
      "application/vnd.jupyter.widget-view+json": {
       "model_id": "",
       "version_major": 2,
       "version_minor": 0
      },
      "text/plain": [
       "FloatProgress(value=0.0, bar_style='info', description='Progress:', layout=Layout(height='25px', width='50%'),…"
      ]
     },
     "metadata": {},
     "output_type": "display_data"
    },
    {
     "name": "stdout",
     "output_type": "stream",
     "text": [
      "343775\n",
      "+--------------------+-------------------+--------+\n",
      "|            location|      datetime_hour|max_pm10|\n",
      "+--------------------+-------------------+--------+\n",
      "|        Yinnar-10819|2021-12-31 14:00:00|     0.0|\n",
      "|     Footscray-10584|2021-12-31 14:00:00|   33.06|\n",
      "|    Alphington-10494|2021-12-31 14:00:00|   23.14|\n",
      "| Geelong South-10869|2021-12-31 14:00:00|   21.78|\n",
      "|      Brooklyn-10826|2021-12-31 14:00:00|   31.97|\n",
      "|   Mooroolbark-10688|2021-12-31 14:00:00|   49.15|\n",
      "|     Dandenong-10868|2021-12-31 14:00:00|   33.86|\n",
      "|     Traralgon-10771|2021-12-31 14:00:00|    27.5|\n",
      "|  Morwell East-10678|2021-12-31 14:00:00|   52.91|\n",
      "|     Footscray-10584|2021-12-31 15:00:00|   48.11|\n",
      "|        Yinnar-10819|2021-12-31 15:00:00|     0.0|\n",
      "| Geelong South-10869|2021-12-31 15:00:00|   20.33|\n",
      "|    Alphington-10494|2021-12-31 15:00:00|   31.98|\n",
      "|      Hopeland-10574|2021-12-31 15:00:00|     5.9|\n",
      "|      Brooklyn-10826|2021-12-31 15:00:00|   41.09|\n",
      "|   Mooroolbark-10688|2021-12-31 15:00:00|   38.31|\n",
      "|     Dandenong-10868|2021-12-31 15:00:00|   28.72|\n",
      "|Moranbah (Cunning...|2021-12-31 15:00:00|    17.9|\n",
      "| Miles Airport-10734|2021-12-31 15:00:00|     6.5|\n",
      "|     Traralgon-10771|2021-12-31 15:00:00|   27.07|\n",
      "+--------------------+-------------------+--------+\n",
      "only showing top 20 rows\n",
      "\n",
      "Number of workers: 3, Execution Time: 198.92694473266602 seconds"
     ]
    }
   ],
   "source": [
    "run_test(3)"
   ]
  },
  {
   "cell_type": "code",
   "execution_count": null,
   "metadata": {},
   "outputs": [
    {
     "data": {
      "application/vnd.jupyter.widget-view+json": {
       "model_id": "",
       "version_major": 2,
       "version_minor": 0
      },
      "text/plain": [
       "FloatProgress(value=0.0, bar_style='info', description='Progress:', layout=Layout(height='25px', width='50%'),…"
      ]
     },
     "metadata": {},
     "output_type": "display_data"
    },
    {
     "name": "stdout",
     "output_type": "stream",
     "text": [
      "343775\n",
      "+--------------------+-------------------+--------+\n",
      "|            location|      datetime_hour|max_pm10|\n",
      "+--------------------+-------------------+--------+\n",
      "| Geelong South-10869|2021-12-31 14:00:00|   21.78|\n",
      "|    Alphington-10494|2021-12-31 14:00:00|   23.14|\n",
      "|     Footscray-10584|2021-12-31 14:00:00|   33.06|\n",
      "|      Brooklyn-10826|2021-12-31 14:00:00|   31.97|\n",
      "|  Morwell East-10678|2021-12-31 14:00:00|   52.91|\n",
      "|     Dandenong-10868|2021-12-31 14:00:00|   33.86|\n",
      "|   Mooroolbark-10688|2021-12-31 14:00:00|   49.15|\n",
      "|        Yinnar-10819|2021-12-31 14:00:00|     0.0|\n",
      "|     Traralgon-10771|2021-12-31 14:00:00|    27.5|\n",
      "|    Alphington-10494|2021-12-31 15:00:00|   31.98|\n",
      "|     Footscray-10584|2021-12-31 15:00:00|   48.11|\n",
      "|      Brooklyn-10826|2021-12-31 15:00:00|   41.09|\n",
      "|  Morwell East-10678|2021-12-31 15:00:00|   55.59|\n",
      "| Miles Airport-10734|2021-12-31 15:00:00|     6.5|\n",
      "|   Mooroolbark-10688|2021-12-31 15:00:00|   38.31|\n",
      "|     Dandenong-10868|2021-12-31 15:00:00|   28.72|\n",
      "|        Yinnar-10819|2021-12-31 15:00:00|     0.0|\n",
      "|Moranbah (Cunning...|2021-12-31 15:00:00|    17.9|\n",
      "|      Hopeland-10574|2021-12-31 15:00:00|     5.9|\n",
      "| Geelong South-10869|2021-12-31 15:00:00|   20.33|\n",
      "+--------------------+-------------------+--------+\n",
      "only showing top 20 rows\n",
      "\n",
      "Number of workers: 6, Execution Time: 82.87643384933472 seconds"
     ]
    }
   ],
   "source": [
    "run_test(6)"
   ]
  },
  {
   "cell_type": "code",
   "execution_count": null,
   "metadata": {},
   "outputs": [
    {
     "data": {
      "application/vnd.jupyter.widget-view+json": {
       "model_id": "",
       "version_major": 2,
       "version_minor": 0
      },
      "text/plain": [
       "FloatProgress(value=0.0, bar_style='info', description='Progress:', layout=Layout(height='25px', width='50%'),…"
      ]
     },
     "metadata": {},
     "output_type": "display_data"
    },
    {
     "data": {
      "image/png": "[encoded data removed]",
      "text/plain": [
       "<IPython.core.display.Image object>"
      ]
     },
     "metadata": {},
     "output_type": "display_data"
    }
   ],
   "source": []
  },
  {
   "cell_type": "code",
   "execution_count": null,
   "metadata": {},
   "outputs": [
    {
     "data": {
      "application/vnd.jupyter.widget-view+json": {
       "model_id": "",
       "version_major": 2,
       "version_minor": 0
      },
      "text/plain": [
       "FloatProgress(value=0.0, bar_style='info', description='Progress:', layout=Layout(height='25px', width='50%'),…"
      ]
     },
     "metadata": {},
     "output_type": "display_data"
    },
    {
     "data": {
      "image/png": "[encoded data removed]",
      "text/plain": [
       "<IPython.core.display.Image object>"
      ]
     },
     "metadata": {},
     "output_type": "display_data"
    }
   ],
   "source": [
    "import pandas as pd\n",
    "\n",
    "# Convert results to DataFrame for easier calculations\n",
    "df_stats = pd.DataFrame(list(cluster_statistics.items()), columns=['n_workers', 'execution_time'])\n",
    "\n",
    "# Calculate speedup (relative to single worker time)\n",
    "single_worker_time = df_stats[df_stats['n_workers'] == 1]['execution_time'].values[0]\n",
    "df_stats['speedup'] = single_worker_time / df_stats['execution_time']\n",
    "\n",
    "# Calculate efficiency (speedup / number of workers)\n",
    "df_stats['efficiency'] = df_stats['speedup'] / df_stats['n_workers']\n",
    "\n",
    "import matplotlib.pyplot as plt\n",
    "\n",
    "# Plot execution time\n",
    "plt.figure(figsize=(10, 6))\n",
    "plt.plot(df_stats['n_workers'], df_stats['execution_time'], marker='o', label=\"Execution Time (s)\")\n",
    "plt.xlabel('Number of Workers')\n",
    "plt.ylabel('Execution Time (seconds)')\n",
    "plt.title('Execution Time vs. Number of Workers')\n",
    "plt.legend()\n",
    "plt.grid(True)\n",
    "plt.show()\n",
    "%matplot plt"
   ]
  },
  {
   "cell_type": "code",
   "execution_count": null,
   "metadata": {},
   "outputs": [
    {
     "data": {
      "application/vnd.jupyter.widget-view+json": {
       "model_id": "",
       "version_major": 2,
       "version_minor": 0
      },
      "text/plain": [
       "FloatProgress(value=0.0, bar_style='info', description='Progress:', layout=Layout(height='25px', width='50%'),…"
      ]
     },
     "metadata": {},
     "output_type": "display_data"
    },
    {
     "data": {
      "image/png": "[encoded data removed]",
      "text/plain": [
       "<IPython.core.display.Image object>"
      ]
     },
     "metadata": {},
     "output_type": "display_data"
    }
   ],
   "source": [
    "# Plot speedup\n",
    "plt.figure(figsize=(10, 6))\n",
    "plt.plot(df_stats['n_workers'], df_stats['speedup'], marker='o', color='g', label=\"Speedup\")\n",
    "plt.xlabel('Number of Workers')\n",
    "plt.ylabel('Speedup')\n",
    "plt.title('Speedup vs. Number of Workers')\n",
    "plt.legend()\n",
    "plt.grid(True)\n",
    "plt.show()\n",
    "%matplot plt\n"
   ]
  },
  {
   "cell_type": "code",
   "execution_count": null,
   "metadata": {},
   "outputs": [
    {
     "data": {
      "application/vnd.jupyter.widget-view+json": {
       "model_id": "",
       "version_major": 2,
       "version_minor": 0
      },
      "text/plain": [
       "FloatProgress(value=0.0, bar_style='info', description='Progress:', layout=Layout(height='25px', width='50%'),…"
      ]
     },
     "metadata": {},
     "output_type": "display_data"
    },
    {
     "data": {
      "image/png": "[encoded data removed]",
      "text/plain": [
       "<IPython.core.display.Image object>"
      ]
     },
     "metadata": {},
     "output_type": "display_data"
    }
   ],
   "source": [
    "\n",
    "# Plot efficiency\n",
    "plt.figure(figsize=(10, 6))\n",
    "plt.plot(df_stats['n_workers'], df_stats['efficiency'], marker='o', color='r', label=\"Efficiency\")\n",
    "plt.xlabel('Number of Workers')\n",
    "plt.ylabel('Efficiency')\n",
    "plt.title('Efficiency vs. Number of Workers')\n",
    "plt.legend()\n",
    "plt.grid(True)\n",
    "plt.show()\n",
    "%matplot plt"
   ]
  },
  {
   "cell_type": "markdown",
   "metadata": {},
   "source": [
    "[1p.] Dla przykładowego zapytania załącz wybrane wykresy ze Spark UI (https://spark.apache.org/docs/latest/web-ui.html), np. DAG, diagram Gantta, informacje o rozmiarach danych."
   ]
  },
  {
   "cell_type": "markdown",
   "metadata": {},
   "source": [
    "![alt text](<Screenshot 2024-11-15 142338.png>)"
   ]
  },
  {
   "cell_type": "code",
   "execution_count": null,
   "metadata": {},
   "outputs": [],
   "source": []
  },
  {
   "cell_type": "code",
   "execution_count": null,
   "metadata": {},
   "outputs": [],
   "source": []
  }
 ],
 "metadata": {
  "application/vnd.databricks.v1+notebook": {
   "dashboards": [],
   "language": "python",
   "notebookMetadata": {
    "pythonIndentUnit": 4
   },
   "notebookName": "ADZD-3-Smog-Intro",
   "widgets": {}
  },
  "kernelspec": {
   "display_name": ".venv",
   "language": "python",
   "name": "python3"
  },
  "language_info": {
   "codemirror_mode": {
    "name": "python",
    "version": 3
   },
   "file_extension": ".py",
   "mimetype": "text/x-python",
   "name": "python",
   "pygments_lexer": "python3",
   "version": "3.10.5"
  }
 },
 "nbformat": 4,
 "nbformat_minor": 1
}
