{
 "cells": [
  {
   "cell_type": "markdown",
   "id": "1f72705c25310637",
   "metadata": {
    "collapsed": false,
    "jupyter": {
     "outputs_hidden": false
    }
   },
   "source": [
    "# ADZD Lab6 - Spark MLlib"
   ]
  },
  {
   "cell_type": "markdown",
   "id": "ecc8a52f2108e04",
   "metadata": {
    "collapsed": false,
    "jupyter": {
     "outputs_hidden": false
    }
   },
   "source": [
    "## Setup"
   ]
  },
  {
   "cell_type": "code",
   "execution_count": 1,
   "id": "911f164cc8b141ff",
   "metadata": {
    "ExecuteTime": {
     "end_time": "2023-11-17T00:28:45.023002Z",
     "start_time": "2023-11-17T00:28:43.257745Z"
    },
    "collapsed": false,
    "jupyter": {
     "outputs_hidden": false
    }
   },
   "outputs": [],
   "source": [
    "from pyspark.sql import SparkSession\n",
    "from pyspark.sql import functions as F\n",
    "spark = SparkSession.builder.getOrCreate()"
   ]
  },
  {
   "cell_type": "code",
   "execution_count": 2,
   "id": "e5e097d531721c9a",
   "metadata": {
    "ExecuteTime": {
     "end_time": "2023-11-17T00:28:45.364398Z",
     "start_time": "2023-11-17T00:28:45.025765Z"
    },
    "collapsed": false,
    "jupyter": {
     "outputs_hidden": false
    }
   },
   "outputs": [
    {
     "data": {
      "text/html": [
       "\n",
       "            <div>\n",
       "                <p><b>SparkSession - in-memory</b></p>\n",
       "                \n",
       "        <div>\n",
       "            <p><b>SparkContext</b></p>\n",
       "\n",
       "            <p><a href=\"http://0780ec0dbb1a:4040\">Spark UI</a></p>\n",
       "\n",
       "            <dl>\n",
       "              <dt>Version</dt>\n",
       "                <dd><code>v3.5.0</code></dd>\n",
       "              <dt>Master</dt>\n",
       "                <dd><code>local[*]</code></dd>\n",
       "              <dt>AppName</dt>\n",
       "                <dd><code>pyspark-shell</code></dd>\n",
       "            </dl>\n",
       "        </div>\n",
       "        \n",
       "            </div>\n",
       "        "
      ],
      "text/plain": [
       "<pyspark.sql.session.SparkSession at 0x7f088382f810>"
      ]
     },
     "execution_count": 2,
     "metadata": {},
     "output_type": "execute_result"
    }
   ],
   "source": [
    "spark"
   ]
  },
  {
   "cell_type": "markdown",
   "id": "3797038b097b8362",
   "metadata": {
    "collapsed": false,
    "jupyter": {
     "outputs_hidden": false
    }
   },
   "source": [
    "## 1. Statistics (1p.)"
   ]
  },
  {
   "cell_type": "markdown",
   "id": "10e47066f7e24435",
   "metadata": {
    "collapsed": false,
    "jupyter": {
     "outputs_hidden": false
    }
   },
   "source": [
    "Download the following dataset: https://www.kaggle.com/datasets/joebeachcapital/30000-spotify-songs"
   ]
  },
  {
   "cell_type": "code",
   "execution_count": 3,
   "id": "b877e97e-f3d3-4bad-8b29-626f7a90d838",
   "metadata": {},
   "outputs": [],
   "source": [
    "df = spark.read.csv(\"spotify_songs.csv\", header=True, inferSchema=True)"
   ]
  },
  {
   "cell_type": "markdown",
   "id": "5e39f52f273acbcc",
   "metadata": {
    "collapsed": false,
    "jupyter": {
     "outputs_hidden": false
    }
   },
   "source": [
    "#### Exercise 1.A"
   ]
  },
  {
   "cell_type": "markdown",
   "id": "1f7d977094d933e3",
   "metadata": {
    "collapsed": false,
    "jupyter": {
     "outputs_hidden": false
    }
   },
   "source": [
    "Show the first 10 rows of the dataset. What columns and what kind of data they contain? Hint: use show() method"
   ]
  },
  {
   "cell_type": "code",
   "execution_count": 4,
   "id": "dcd2264b54af2ab7",
   "metadata": {
    "ExecuteTime": {
     "end_time": "2023-11-17T00:28:54.845614Z",
     "start_time": "2023-11-17T00:28:54.838999Z"
    },
    "collapsed": false,
    "jupyter": {
     "outputs_hidden": false
    }
   },
   "outputs": [
    {
     "name": "stdout",
     "output_type": "stream",
     "text": [
      "column  track_id\n",
      "6f807x0ima9a1j3VPbc7VN\n",
      "0r7CVbZTWZgbTCYdfa2P31\n",
      "1z1Hg7Vb0AhHDiEmnDE79l\n",
      "75FpbthrwQmzHlBJLuGdC7\n",
      "1e8PAfcKUYoKkxPhrHqw4x\n",
      "7fvUMiyapMsRRxr07cU8Ef\n",
      "2OAylPUDDfwRGfe0lYqlCQ\n",
      "6b1RNvAcJjQH73eZO4BLAB\n",
      "7bF6tCO3gFb8INrEDcjNT5\n",
      "1IXGILkPm0tOCNeq00kCPa\n",
      "\n",
      "\n",
      "column  track_name\n",
      "I Don't Care (with Justin Bieber) - Loud Luxury Remix\n",
      "Memories - Dillon Francis Remix\n",
      "All the Time - Don Diablo Remix\n",
      "Call You Mine - Keanu Silva Remix\n",
      "Someone You Loved - Future Humans Remix\n",
      "Beautiful People (feat. Khalid) - Jack Wins Remix\n",
      "Never Really Over - R3HAB Remix\n",
      "Post Malone (feat. RANI) - GATTÜSO Remix\n",
      "Tough Love - Tiësto Remix / Radio Edit\n",
      "If I Can't Have You - Gryffin Remix\n",
      "\n",
      "\n",
      "column  track_artist\n",
      "Ed Sheeran\n",
      "Maroon 5\n",
      "Zara Larsson\n",
      "The Chainsmokers\n",
      "Lewis Capaldi\n",
      "Ed Sheeran\n",
      "Katy Perry\n",
      "Sam Feldt\n",
      "Avicii\n",
      "Shawn Mendes\n",
      "\n",
      "\n",
      "column  track_popularity\n",
      "66\n",
      "67\n",
      "70\n",
      "60\n",
      "69\n",
      "67\n",
      "62\n",
      "69\n",
      "68\n",
      "67\n",
      "\n",
      "\n",
      "column  track_album_id\n",
      "2oCs0DGTsRO98Gh5ZSl2Cx\n",
      "63rPSO264uRjW1X5E6cWv6\n",
      "1HoSmj2eLcsrR0vE9gThr4\n",
      "1nqYsOef1yKKuGOVchbsk6\n",
      "7m7vv9wlQ4i0LFuJiE2zsQ\n",
      "2yiy9cd2QktrNvWC2EUi0k\n",
      "7INHYSeusaFlyrHSNxm8qH\n",
      "6703SRPsLkS4bPtMFFJes1\n",
      "7CvAfGvq4RlIwEbT9o8Iav\n",
      "4QxzbfSsVryEQwvPFEV5Iu\n",
      "\n",
      "\n",
      "column  track_album_name\n",
      "I Don't Care (with Justin Bieber) [Loud Luxury Remix]\n",
      "Memories (Dillon Francis Remix)\n",
      "All the Time (Don Diablo Remix)\n",
      "Call You Mine - The Remixes\n",
      "Someone You Loved (Future Humans Remix)\n",
      "Beautiful People (feat. Khalid) [Jack Wins Remix]\n",
      "Never Really Over (R3HAB Remix)\n",
      "Post Malone (feat. RANI) [GATTÜSO Remix]\n",
      "Tough Love (Tiësto Remix)\n",
      "If I Can't Have You (Gryffin Remix)\n",
      "\n",
      "\n",
      "column  track_album_release_date\n",
      "2019-06-14\n",
      "2019-12-13\n",
      "2019-07-05\n",
      "2019-07-19\n",
      "2019-03-05\n",
      "2019-07-11\n",
      "2019-07-26\n",
      "2019-08-29\n",
      "2019-06-14\n",
      "2019-06-20\n",
      "\n",
      "\n",
      "column  playlist_name\n",
      "Pop Remix\n",
      "Pop Remix\n",
      "Pop Remix\n",
      "Pop Remix\n",
      "Pop Remix\n",
      "Pop Remix\n",
      "Pop Remix\n",
      "Pop Remix\n",
      "Pop Remix\n",
      "Pop Remix\n",
      "\n",
      "\n",
      "column  playlist_id\n",
      "37i9dQZF1DXcZDD7cfEKhW\n",
      "37i9dQZF1DXcZDD7cfEKhW\n",
      "37i9dQZF1DXcZDD7cfEKhW\n",
      "37i9dQZF1DXcZDD7cfEKhW\n",
      "37i9dQZF1DXcZDD7cfEKhW\n",
      "37i9dQZF1DXcZDD7cfEKhW\n",
      "37i9dQZF1DXcZDD7cfEKhW\n",
      "37i9dQZF1DXcZDD7cfEKhW\n",
      "37i9dQZF1DXcZDD7cfEKhW\n",
      "37i9dQZF1DXcZDD7cfEKhW\n",
      "\n",
      "\n",
      "column  playlist_genre\n",
      "pop\n",
      "pop\n",
      "pop\n",
      "pop\n",
      "pop\n",
      "pop\n",
      "pop\n",
      "pop\n",
      "pop\n",
      "pop\n",
      "\n",
      "\n",
      "column  playlist_subgenre\n",
      "dance pop\n",
      "dance pop\n",
      "dance pop\n",
      "dance pop\n",
      "dance pop\n",
      "dance pop\n",
      "dance pop\n",
      "dance pop\n",
      "dance pop\n",
      "dance pop\n",
      "\n",
      "\n",
      "column  danceability\n",
      "0.748\n",
      "0.726\n",
      "0.675\n",
      "0.718\n",
      "0.65\n",
      "0.675\n",
      "0.449\n",
      "0.542\n",
      "0.594\n",
      "0.642\n",
      "\n",
      "\n",
      "column  energy\n",
      "0.916\n",
      "0.815\n",
      "0.931\n",
      "0.93\n",
      "0.833\n",
      "0.919\n",
      "0.856\n",
      "0.903\n",
      "0.935\n",
      "0.818\n",
      "\n",
      "\n",
      "column  key\n",
      "6\n",
      "11\n",
      "1\n",
      "7\n",
      "1\n",
      "8\n",
      "5\n",
      "4\n",
      "8\n",
      "2\n",
      "\n",
      "\n",
      "column  loudness\n",
      "-2.634\n",
      "-4.969\n",
      "-3.432\n",
      "-3.778\n",
      "-4.672\n",
      "-5.385\n",
      "-4.788\n",
      "-2.419\n",
      "-3.562\n",
      "-4.552\n",
      "\n",
      "\n",
      "column  mode\n",
      "1\n",
      "1\n",
      "0\n",
      "1\n",
      "1\n",
      "1\n",
      "0\n",
      "0\n",
      "1\n",
      "1\n",
      "\n",
      "\n",
      "column  speechiness\n",
      "0.0583\n",
      "0.0373\n",
      "0.0742\n",
      "0.102\n",
      "0.0359\n",
      "0.127\n",
      "0.0623\n",
      "0.0434\n",
      "0.0565\n",
      "0.032\n",
      "\n",
      "\n",
      "column  acousticness\n",
      "0.102\n",
      "0.0724\n",
      "0.0794\n",
      "0.0287\n",
      "0.0803\n",
      "0.0799\n",
      "0.187\n",
      "0.0335\n",
      "0.0249\n",
      "0.0567\n",
      "\n",
      "\n",
      "column  instrumentalness\n",
      "0.0\n",
      "0.00421\n",
      "2.33e-05\n",
      "9.43e-06\n",
      "0.0\n",
      "0.0\n",
      "0.0\n",
      "4.83e-06\n",
      "3.97e-06\n",
      "0.0\n",
      "\n",
      "\n",
      "column  liveness\n",
      "0.0653\n",
      "0.357\n",
      "0.11\n",
      "0.204\n",
      "0.0833\n",
      "0.143\n",
      "0.176\n",
      "0.111\n",
      "0.637\n",
      "0.0919\n",
      "\n",
      "\n",
      "column  valence\n",
      "0.518\n",
      "0.693\n",
      "0.613\n",
      "0.277\n",
      "0.725\n",
      "0.585\n",
      "0.152\n",
      "0.367\n",
      "0.366\n",
      "0.59\n",
      "\n",
      "\n",
      "column  tempo\n",
      "122.036\n",
      "99.972\n",
      "124.008\n",
      "121.956\n",
      "123.976\n",
      "124.982\n",
      "112.648\n",
      "127.936\n",
      "127.015\n",
      "124.957\n",
      "\n",
      "\n",
      "column  duration_ms\n",
      "194754.0\n",
      "162600.0\n",
      "176616.0\n",
      "169093.0\n",
      "189052.0\n",
      "163049.0\n",
      "187675.0\n",
      "207619.0\n",
      "193187.0\n",
      "253040.0\n",
      "\n",
      "\n"
     ]
    }
   ],
   "source": [
    "for c in df.columns:\n",
    "    print(\"column \", c)\n",
    "    rows = df.select(c).take(10)\n",
    "    for row in rows:\n",
    "        print(row[c])\n",
    "    print(\"\\n\")"
   ]
  },
  {
   "cell_type": "markdown",
   "id": "81c4f01b1896bb53",
   "metadata": {
    "collapsed": false,
    "jupyter": {
     "outputs_hidden": false
    }
   },
   "source": [
    "### Descriptive statistics"
   ]
  },
  {
   "cell_type": "markdown",
   "id": "eece3999ee78c22e",
   "metadata": {
    "collapsed": false,
    "jupyter": {
     "outputs_hidden": false
    }
   },
   "source": [
    "#### Exercise 1.B"
   ]
  },
  {
   "cell_type": "markdown",
   "id": "29b710bc470520d9",
   "metadata": {
    "collapsed": false,
    "jupyter": {
     "outputs_hidden": false
    }
   },
   "source": [
    "Calculate descriptive statistics for 'track_popularity' and 'duration_ms'  (see https://spark.apache.org/docs/1.6.1/api/java/org/apache/spark/sql/DataFrame.html#describe(scala.collection.Seq))"
   ]
  },
  {
   "cell_type": "code",
   "execution_count": 5,
   "id": "e57eda32eed4a004",
   "metadata": {
    "ExecuteTime": {
     "end_time": "2023-11-17T00:29:00.440477Z",
     "start_time": "2023-11-17T00:29:00.434884Z"
    },
    "collapsed": false,
    "jupyter": {
     "outputs_hidden": false
    }
   },
   "outputs": [
    {
     "name": "stdout",
     "output_type": "stream",
     "text": [
      "+-------+------------------+\n",
      "|summary|  track_popularity|\n",
      "+-------+------------------+\n",
      "|  count|             32833|\n",
      "|   mean|42.477080985593766|\n",
      "| stddev|24.984074486186927|\n",
      "|    min|                 0|\n",
      "|    max|               100|\n",
      "+-------+------------------+\n",
      "\n",
      "+-------+------------------+\n",
      "|summary|       duration_ms|\n",
      "+-------+------------------+\n",
      "|  count|             32833|\n",
      "|   mean|225681.46748989128|\n",
      "| stddev|  59936.5636225785|\n",
      "|    min|            0.0116|\n",
      "|    max|          517810.0|\n",
      "+-------+------------------+\n",
      "\n"
     ]
    }
   ],
   "source": [
    "df.describe(\"track_popularity\").show()\n",
    "df.describe(\"duration_ms\").show()\n"
   ]
  },
  {
   "cell_type": "markdown",
   "id": "d32bc274f3e76528",
   "metadata": {
    "collapsed": false,
    "jupyter": {
     "outputs_hidden": false
    }
   },
   "source": [
    "#### Exercise 1.C"
   ]
  },
  {
   "cell_type": "markdown",
   "id": "421a32cc943c8437",
   "metadata": {
    "collapsed": false,
    "jupyter": {
     "outputs_hidden": false
    }
   },
   "source": [
    "Check if 'track_popularity' and 'duration_ms' have normal distribution (see http://spark.apache.org/docs/latest/api/java/org/apache/spark/ml/stat/KolmogorovSmirnovTest.html)."
   ]
  },
  {
   "cell_type": "code",
   "execution_count": 6,
   "id": "326b5dacb5a8c0b6",
   "metadata": {
    "ExecuteTime": {
     "end_time": "2023-11-17T00:29:06.623349Z",
     "start_time": "2023-11-17T00:29:06.617524Z"
    },
    "collapsed": false,
    "jupyter": {
     "outputs_hidden": false
    }
   },
   "outputs": [
    {
     "name": "stdout",
     "output_type": "stream",
     "text": [
      "+--------------------+------------------+\n",
      "|              pValue|         statistic|\n",
      "+--------------------+------------------+\n",
      "|7.408774704842358...|0.8870246032323421|\n",
      "+--------------------+------------------+\n",
      "\n",
      "+------+------------------+\n",
      "|pValue|         statistic|\n",
      "+------+------------------+\n",
      "|   0.0|0.9999695428379983|\n",
      "+------+------------------+\n",
      "\n"
     ]
    }
   ],
   "source": [
    "from pyspark.ml.stat import KolmogorovSmirnovTest\n",
    "\n",
    "result = KolmogorovSmirnovTest.test(df, \"track_popularity\", \"norm\")\n",
    "result.show()\n",
    "\n",
    "\n",
    "result = KolmogorovSmirnovTest.test(df, \"duration_ms\", \"norm\")\n",
    "result.show()\n"
   ]
  },
  {
   "cell_type": "code",
   "execution_count": 7,
   "id": "fa8ce9e6-cd68-4e00-8115-cc3b4e1d5eb5",
   "metadata": {},
   "outputs": [],
   "source": [
    "#Popularity could be normal, duration not likely"
   ]
  },
  {
   "cell_type": "markdown",
   "id": "bb0f183289f93c5a",
   "metadata": {
    "collapsed": false,
    "jupyter": {
     "outputs_hidden": false
    }
   },
   "source": [
    "#### Exercise 1.D"
   ]
  },
  {
   "cell_type": "markdown",
   "id": "c1dbe98fcc5baa80",
   "metadata": {
    "collapsed": false,
    "jupyter": {
     "outputs_hidden": false
    }
   },
   "source": [
    "Create correlation matrix between numeric values in the dataset. Which correlation is the strongest? Use the following, preprocessing function."
   ]
  },
  {
   "cell_type": "code",
   "execution_count": 11,
   "id": "33c25ab91f37977a",
   "metadata": {
    "ExecuteTime": {
     "end_time": "2023-11-17T00:29:10.504366Z",
     "start_time": "2023-11-17T00:29:10.497318Z"
    },
    "collapsed": false,
    "jupyter": {
     "outputs_hidden": false
    }
   },
   "outputs": [],
   "source": [
    "def preprocess_dataset(dataset):\n",
    "    return (dataset\n",
    "                .drop(\"track_id\", \"track_name\", \"track_artist\", \"track_album_id\", \"track_album_name\", \"track_album_release_date\", \"playlist_name\", \"playlist_id\", \"playlist_genre\", \"playlist_subgenre\", \"key\")\n",
    "                .withColumn(\"danceability\", F.col(\"danceability\").cast('double'))\n",
    "                .withColumn(\"energy\", F.col(\"energy\").cast('double'))\n",
    "                .withColumn(\"mode\", F.col(\"mode\").cast('double'))\n",
    "                .withColumn(\"loudness\", F.col(\"loudness\").cast('double'))\n",
    "            )"
   ]
  },
  {
   "cell_type": "code",
   "execution_count": 12,
   "id": "7cc2f72939974a3c",
   "metadata": {
    "ExecuteTime": {
     "end_time": "2023-11-17T00:29:11.042261Z",
     "start_time": "2023-11-17T00:29:11.033797Z"
    },
    "collapsed": false,
    "jupyter": {
     "outputs_hidden": false
    }
   },
   "outputs": [],
   "source": [
    "preprocessed = preprocess_dataset(df)\n",
    "preprocessed = preprocessed.na.drop()\n"
   ]
  },
  {
   "cell_type": "code",
   "execution_count": 18,
   "id": "4bce6852-a448-45a1-9895-6c5fcbf019c3",
   "metadata": {},
   "outputs": [
    {
     "data": {
      "text/plain": [
       "['track_popularity',\n",
       " 'danceability',\n",
       " 'energy',\n",
       " 'loudness',\n",
       " 'mode',\n",
       " 'speechiness',\n",
       " 'acousticness',\n",
       " 'instrumentalness',\n",
       " 'liveness',\n",
       " 'valence',\n",
       " 'tempo',\n",
       " 'duration_ms']"
      ]
     },
     "execution_count": 18,
     "metadata": {},
     "output_type": "execute_result"
    }
   ],
   "source": [
    "preprocessed.columns"
   ]
  },
  {
   "cell_type": "code",
   "execution_count": 19,
   "id": "ac5291d5-52b7-40d4-a638-1b04e1bb6e47",
   "metadata": {},
   "outputs": [
    {
     "data": {
      "image/png": "[encoded data removed]",
      "text/plain": [
       "<Figure size 1600x500 with 2 Axes>"
      ]
     },
     "metadata": {},
     "output_type": "display_data"
    }
   ],
   "source": [
    "from pyspark.ml.stat import Correlation\n",
    "from pyspark.ml.feature import VectorAssembler\n",
    "\n",
    "\n",
    "\n",
    "assembler = VectorAssembler(inputCols=preprocessed.columns, outputCol=\"features\")\n",
    "vector_df = assembler.transform(preprocessed).select(\"features\")\n",
    "\n",
    "# Calculate the correlation matrix\n",
    "matrix = Correlation.corr(vector_df, \"features\").head()[0]\n",
    "\n",
    "import pandas as pd\n",
    "\n",
    "# Assuming `matrix` is the DenseMatrix\n",
    "matrix_df = pd.DataFrame(matrix.toArray())\n",
    "\n",
    "# Optionally, set column names\n",
    "matrix_df.columns = [f\"Feature {preprocessed.columns[i]}\" for i in range(matrix_df.shape[1])]\n",
    "\n",
    "# Plot the heatmap\n",
    "plt.figure(figsize=(16, 5))\n",
    "sns.heatmap(matrix_df, xticklabels=matrix_df.columns, yticklabels=matrix_df.columns, cmap=\"Greens\", annot=True)\n",
    "plt.show()\n"
   ]
  },
  {
   "cell_type": "code",
   "execution_count": null,
   "id": "3cfdd5b8-df11-40ea-9d9d-b414166d59a1",
   "metadata": {},
   "outputs": [],
   "source": [
    "\"\"\"\n",
    "energy + loudness\n",
    "danceability + valence\n",
    "speechiness + danceability\n",
    "acousticness - energy - loudness\n",
    "\"\"\""
   ]
  },
  {
   "cell_type": "markdown",
   "id": "5712ebc5f3fded34",
   "metadata": {
    "collapsed": false,
    "jupyter": {
     "outputs_hidden": false
    }
   },
   "source": [
    "## 2. Load Data"
   ]
  },
  {
   "cell_type": "markdown",
   "id": "d80f80c00c5d8df1",
   "metadata": {
    "collapsed": false,
    "jupyter": {
     "outputs_hidden": false
    }
   },
   "source": [
    "Doc: http://spark.apache.org/docs/latest/ml-datasource.html\n",
    "\n",
    "Download data from https://github.com/apache/spark/blob/master/data/mllib/sample_libsvm_data.txt and load as DataFrame."
   ]
  },
  {
   "cell_type": "code",
   "execution_count": 20,
   "id": "96a99e247b271f1c",
   "metadata": {
    "ExecuteTime": {
     "end_time": "2023-11-17T00:29:49.044063Z",
     "start_time": "2023-11-17T00:29:47.110301Z"
    },
    "collapsed": false,
    "jupyter": {
     "outputs_hidden": false
    }
   },
   "outputs": [
    {
     "name": "stdout",
     "output_type": "stream",
     "text": [
      "+-----+--------------------+\n",
      "|label|            features|\n",
      "+-----+--------------------+\n",
      "|  0.0|(780,[127,128,129...|\n",
      "|  1.0|(780,[158,159,160...|\n",
      "|  1.0|(780,[124,125,126...|\n",
      "|  1.0|(780,[152,153,154...|\n",
      "|  1.0|(780,[151,152,153...|\n",
      "|  0.0|(780,[129,130,131...|\n",
      "|  1.0|(780,[158,159,160...|\n",
      "|  1.0|(780,[99,100,101,...|\n",
      "|  0.0|(780,[154,155,156...|\n",
      "|  0.0|(780,[127,128,129...|\n",
      "+-----+--------------------+\n",
      "only showing top 10 rows\n",
      "\n"
     ]
    },
    {
     "data": {
      "text/plain": [
       "[Row(label=0.0, features=SparseVector(780, {127: 51.0, 128: 159.0, 129: 253.0, 130: 159.0, 131: 50.0, 154: 48.0, 155: 238.0, 156: 252.0, 157: 252.0, 158: 252.0, 159: 237.0, 181: 54.0, 182: 227.0, 183: 253.0, 184: 252.0, 185: 239.0, 186: 233.0, 187: 252.0, 188: 57.0, 189: 6.0, 207: 10.0, 208: 60.0, 209: 224.0, 210: 252.0, 211: 253.0, 212: 252.0, 213: 202.0, 214: 84.0, 215: 252.0, 216: 253.0, 217: 122.0, 235: 163.0, 236: 252.0, 237: 252.0, 238: 252.0, 239: 253.0, 240: 252.0, 241: 252.0, 242: 96.0, 243: 189.0, 244: 253.0, 245: 167.0, 262: 51.0, 263: 238.0, 264: 253.0, 265: 253.0, 266: 190.0, 267: 114.0, 268: 253.0, 269: 228.0, 270: 47.0, 271: 79.0, 272: 255.0, 273: 168.0, 289: 48.0, 290: 238.0, 291: 252.0, 292: 252.0, 293: 179.0, 294: 12.0, 295: 75.0, 296: 121.0, 297: 21.0, 300: 253.0, 301: 243.0, 302: 50.0, 316: 38.0, 317: 165.0, 318: 253.0, 319: 233.0, 320: 208.0, 321: 84.0, 328: 253.0, 329: 252.0, 330: 165.0, 343: 7.0, 344: 178.0, 345: 252.0, 346: 240.0, 347: 71.0, 348: 19.0, 349: 28.0, 356: 253.0, 357: 252.0, 358: 195.0, 371: 57.0, 372: 252.0, 373: 252.0, 374: 63.0, 384: 253.0, 385: 252.0, 386: 195.0, 399: 198.0, 400: 253.0, 401: 190.0, 412: 255.0, 413: 253.0, 414: 196.0, 426: 76.0, 427: 246.0, 428: 252.0, 429: 112.0, 440: 253.0, 441: 252.0, 442: 148.0, 454: 85.0, 455: 252.0, 456: 230.0, 457: 25.0, 466: 7.0, 467: 135.0, 468: 253.0, 469: 186.0, 470: 12.0, 482: 85.0, 483: 252.0, 484: 223.0, 493: 7.0, 494: 131.0, 495: 252.0, 496: 225.0, 497: 71.0, 510: 85.0, 511: 252.0, 512: 145.0, 520: 48.0, 521: 165.0, 522: 252.0, 523: 173.0, 538: 86.0, 539: 253.0, 540: 225.0, 547: 114.0, 548: 238.0, 549: 253.0, 550: 162.0, 566: 85.0, 567: 252.0, 568: 249.0, 569: 146.0, 570: 48.0, 571: 29.0, 572: 85.0, 573: 178.0, 574: 225.0, 575: 253.0, 576: 223.0, 577: 167.0, 578: 56.0, 594: 85.0, 595: 252.0, 596: 252.0, 597: 252.0, 598: 229.0, 599: 215.0, 600: 252.0, 601: 252.0, 602: 252.0, 603: 196.0, 604: 130.0, 622: 28.0, 623: 199.0, 624: 252.0, 625: 252.0, 626: 253.0, 627: 252.0, 628: 252.0, 629: 233.0, 630: 145.0, 651: 25.0, 652: 128.0, 653: 252.0, 654: 253.0, 655: 252.0, 656: 141.0, 657: 37.0}))]"
      ]
     },
     "execution_count": 20,
     "metadata": {},
     "output_type": "execute_result"
    }
   ],
   "source": [
    "file = \"sample_libsvm_data.txt\"\n",
    "\n",
    "df = spark.read.format(\"libsvm\").option(\"numFeatures\", \"780\").load(file)\n",
    "df.show(10)\n",
    "df.take(1)"
   ]
  },
  {
   "cell_type": "markdown",
   "id": "5e30b5a05d5e36ff",
   "metadata": {
    "collapsed": false,
    "jupyter": {
     "outputs_hidden": false
    }
   },
   "source": [
    "### Exercise 2.A"
   ]
  },
  {
   "cell_type": "markdown",
   "id": "1bed0c966302c4f3",
   "metadata": {
    "collapsed": false,
    "jupyter": {
     "outputs_hidden": false
    }
   },
   "source": [
    "Load vehicle data from https://www.csie.ntu.edu.tw/~cjlin/libsvmtools/datasets/multiclass/vehicle.scale \n",
    "Dataset description: http://archive.ics.uci.edu/ml/datasets/Vehicle"
   ]
  },
  {
   "cell_type": "code",
   "execution_count": 21,
   "id": "3af013b051963709",
   "metadata": {
    "ExecuteTime": {
     "end_time": "2023-11-17T00:29:54.515641Z",
     "start_time": "2023-11-17T00:29:54.510572Z"
    },
    "collapsed": false,
    "jupyter": {
     "outputs_hidden": false
    }
   },
   "outputs": [
    {
     "name": "stdout",
     "output_type": "stream",
     "text": [
      "+-----+--------------------+\n",
      "|label|            features|\n",
      "+-----+--------------------+\n",
      "|  4.0|(18,[0,1,2,3,4,5,...|\n",
      "|  4.0|(18,[0,1,2,3,4,5,...|\n",
      "|  2.0|(18,[0,1,2,3,4,5,...|\n",
      "|  4.0|(18,[0,1,2,3,4,5,...|\n",
      "|  3.0|(18,[0,1,2,3,4,5,...|\n",
      "|  3.0|(18,[0,1,2,3,4,5,...|\n",
      "|  3.0|(18,[0,1,2,3,4,5,...|\n",
      "|  4.0|(18,[0,1,2,3,4,5,...|\n",
      "|  4.0|(18,[0,1,2,3,4,5,...|\n",
      "|  2.0|(18,[0,1,2,3,4,5,...|\n",
      "+-----+--------------------+\n",
      "only showing top 10 rows\n",
      "\n"
     ]
    },
    {
     "data": {
      "text/plain": [
       "[Row(label=4.0, features=SparseVector(18, {0: -0.0435, 1: 0.1538, 2: 0.1944, 3: -0.3537, 4: -0.4505, 5: -0.6981, 6: -0.3464, 7: -0.0857, 8: -0.5, 9: 0.1714, 10: -0.5158, 11: -0.5324, 12: -0.0566, 13: -0.7105, 14: -0.4545, 15: -0.2195, 16: -0.2667, 17: 0.0667}))]"
      ]
     },
     "execution_count": 21,
     "metadata": {},
     "output_type": "execute_result"
    }
   ],
   "source": [
    "file = \"vehicle.scale.txt\"\n",
    "\n",
    "vdata = spark.read.format(\"libsvm\").option(\"numFeatures\", \"18\").load(file)\n",
    "vdata.show(10)\n",
    "vdata.take(1)"
   ]
  },
  {
   "cell_type": "markdown",
   "id": "e2a0ba3912e25681",
   "metadata": {
    "collapsed": false,
    "jupyter": {
     "outputs_hidden": false
    }
   },
   "source": [
    "## 3. Classification (2.p)"
   ]
  },
  {
   "cell_type": "markdown",
   "id": "2ab9272605b57220",
   "metadata": {
    "collapsed": false,
    "jupyter": {
     "outputs_hidden": false
    }
   },
   "source": [
    "### Exercise 3.A"
   ]
  },
  {
   "cell_type": "markdown",
   "id": "e5d9467feb9a3e90",
   "metadata": {
    "collapsed": false,
    "jupyter": {
     "outputs_hidden": false
    }
   },
   "source": [
    "Download Credit Card Fraud Detection Dataset 2023 from https://www.kaggle.com/datasets/nelgiriyewithana/credit-card-fraud-detection-dataset-2023 and make classification of potentially fraudulent transactions:\n",
    "\n",
    "- Create pipeline with VectorAssembler and RandomForestClassifier.\n",
    "\n",
    "- Use the pipeline to make predictions.\n",
    "\n",
    "- Evaluate predictions using MulticlassClassificationEvaluator.\n",
    "\n",
    "- Calculate accuracy and test error\n",
    "\n",
    "- Print the structure of the trained decision tree (hint: use toDebugString attribute)"
   ]
  },
  {
   "cell_type": "code",
   "execution_count": 23,
   "id": "83f9450efbafcb16",
   "metadata": {
    "ExecuteTime": {
     "end_time": "2023-11-17T00:30:01.757494Z",
     "start_time": "2023-11-17T00:30:01.748158Z"
    },
    "collapsed": false,
    "jupyter": {
     "outputs_hidden": false
    }
   },
   "outputs": [
    {
     "name": "stdout",
     "output_type": "stream",
     "text": [
      "Collecting kagglehub\n",
      "  Downloading kagglehub-0.3.5-py3-none-any.whl.metadata (22 kB)\n",
      "Requirement already satisfied: packaging in /opt/conda/lib/python3.11/site-packages (from kagglehub) (23.2)\n",
      "Requirement already satisfied: requests in /opt/conda/lib/python3.11/site-packages (from kagglehub) (2.31.0)\n",
      "Requirement already satisfied: tqdm in /opt/conda/lib/python3.11/site-packages (from kagglehub) (4.66.1)\n",
      "Requirement already satisfied: charset-normalizer<4,>=2 in /opt/conda/lib/python3.11/site-packages (from requests->kagglehub) (3.3.0)\n",
      "Requirement already satisfied: idna<4,>=2.5 in /opt/conda/lib/python3.11/site-packages (from requests->kagglehub) (3.4)\n",
      "Requirement already satisfied: urllib3<3,>=1.21.1 in /opt/conda/lib/python3.11/site-packages (from requests->kagglehub) (2.0.7)\n",
      "Requirement already satisfied: certifi>=2017.4.17 in /opt/conda/lib/python3.11/site-packages (from requests->kagglehub) (2023.7.22)\n",
      "Downloading kagglehub-0.3.5-py3-none-any.whl (44 kB)\n",
      "\u001b[2K   \u001b[90m━━━━━━━━━━━━━━━━━━━━━━━━━━━━━━━━━━━━━━━━\u001b[0m \u001b[32m44.8/44.8 kB\u001b[0m \u001b[31m940.5 kB/s\u001b[0m eta \u001b[36m0:00:00\u001b[0m\u001b[36m0:00:01\u001b[0m\n",
      "\u001b[?25hInstalling collected packages: kagglehub\n",
      "Successfully installed kagglehub-0.3.5\n",
      "Downloading from https://www.kaggle.com/api/v1/datasets/download/nelgiriyewithana/credit-card-fraud-detection-dataset-2023?dataset_version_number=1...\n"
     ]
    },
    {
     "name": "stderr",
     "output_type": "stream",
     "text": [
      "100%|██████████| 143M/143M [00:06<00:00, 24.0MB/s] "
     ]
    },
    {
     "name": "stdout",
     "output_type": "stream",
     "text": [
      "Extracting files...\n"
     ]
    },
    {
     "name": "stderr",
     "output_type": "stream",
     "text": [
      "\n"
     ]
    },
    {
     "name": "stdout",
     "output_type": "stream",
     "text": [
      "Path to dataset files: /home/jovyan/.cache/kagglehub/datasets/nelgiriyewithana/credit-card-fraud-detection-dataset-2023/versions/1\n"
     ]
    }
   ],
   "source": [
    "!pip install kagglehub\n",
    "import kagglehub\n",
    "\n",
    "# Download latest version\n",
    "path = kagglehub.dataset_download(\"nelgiriyewithana/credit-card-fraud-detection-dataset-2023\")\n",
    "\n",
    "print(\"Path to dataset files:\", path)"
   ]
  },
  {
   "cell_type": "code",
   "execution_count": 25,
   "id": "9b772017-fbdc-41dd-98e2-ad3d7b028ac9",
   "metadata": {},
   "outputs": [
    {
     "name": "stdout",
     "output_type": "stream",
     "text": [
      "['id', 'V1', 'V2', 'V3', 'V4', 'V5', 'V6', 'V7', 'V8', 'V9', 'V10', 'V11', 'V12', 'V13', 'V14', 'V15', 'V16', 'V17', 'V18', 'V19', 'V20', 'V21', 'V22', 'V23', 'V24', 'V25', 'V26', 'V27', 'V28', 'Amount', 'Class']\n"
     ]
    }
   ],
   "source": [
    "fdetection = spark.read.csv(path, header=True, inferSchema=True)\n",
    "fdetection.take(1)\n",
    "print(fdetection.columns)"
   ]
  },
  {
   "cell_type": "code",
   "execution_count": 26,
   "id": "99ca80b0-8c6c-4613-baa9-d29d62a8bae1",
   "metadata": {},
   "outputs": [
    {
     "name": "stdout",
     "output_type": "stream",
     "text": [
      "['id', 'V1', 'V2', 'V3', 'V4', 'V5', 'V6', 'V7', 'V8', 'V9', 'V10', 'V11', 'V12', 'V13', 'V14', 'V15', 'V16', 'V17', 'V18', 'V19', 'V20', 'V21', 'V22', 'V23', 'V24', 'V25', 'V26', 'V27', 'V28', 'Amount']\n"
     ]
    }
   ],
   "source": [
    "print(fdetection.columns[:-1])"
   ]
  },
  {
   "cell_type": "code",
   "execution_count": 29,
   "id": "e25c8839-fb34-4774-a454-f8aea8a9eb01",
   "metadata": {},
   "outputs": [
    {
     "name": "stdout",
     "output_type": "stream",
     "text": [
      "['id', 'V1', 'V2', 'V3', 'V4', 'V5', 'V6', 'V7', 'V8', 'V9', 'V10', 'V11', 'V12', 'V13', 'V14', 'V15', 'V16', 'V17', 'V18', 'V19', 'V20', 'V21', 'V22', 'V23', 'V24', 'V25', 'V26', 'V27', 'V28', 'Amount', 'Class', 'features', 'rawPrediction', 'probability', 'prediction']\n"
     ]
    }
   ],
   "source": [
    "from pyspark.sql import SparkSession\n",
    "from pyspark.ml.feature import VectorAssembler\n",
    "from pyspark.ml.classification import RandomForestClassifier\n",
    "from pyspark.ml import Pipeline\n",
    "from pyspark.ml.evaluation import MulticlassClassificationEvaluator\n",
    "\n",
    "train_data, test_data = fdetection.randomSplit([0.7, 0.3], seed=42)\n",
    "assembler = VectorAssembler(inputCols= fdetection.columns[:-1] , outputCol=\"features\")\n",
    "rf_classifier = RandomForestClassifier(labelCol=\"Class\", featuresCol=\"features\", numTrees=10)\n",
    "pipeline = Pipeline(stages=[assembler, rf_classifier])\n",
    "model = pipeline.fit(train_data)\n",
    "predictions = model.transform(test_data)\n",
    "print(predictions.columns)"
   ]
  },
  {
   "cell_type": "code",
   "execution_count": 30,
   "id": "f0082878-b671-4186-b1b6-2e0241a2f15f",
   "metadata": {
    "collapsed": true,
    "jupyter": {
     "outputs_hidden": true
    }
   },
   "outputs": [
    {
     "name": "stdout",
     "output_type": "stream",
     "text": [
      "Accuracy: 0.9981\n",
      "Test Error: 0.0019\n",
      "Trained Random Forest model structure:\n",
      "RandomForestClassificationModel: uid=RandomForestClassifier_2b27641b5899, numTrees=10, numClasses=2, numFeatures=30\n",
      "  Tree 0 (weight 1.0):\n",
      "    If (feature 4 <= -0.02539201935598802)\n",
      "     If (feature 14 <= -0.15100844808797703)\n",
      "      If (feature 7 <= 0.45633312951761157)\n",
      "       If (feature 12 <= 0.8016754202779894)\n",
      "        If (feature 0 <= 275322.5)\n",
      "         Predict: 0.0\n",
      "        Else (feature 0 > 275322.5)\n",
      "         Predict: 1.0\n",
      "       Else (feature 12 > 0.8016754202779894)\n",
      "        Predict: 0.0\n",
      "      Else (feature 7 > 0.45633312951761157)\n",
      "       If (feature 10 <= 0.06718447330428738)\n",
      "        If (feature 23 <= -0.5563903461265709)\n",
      "         Predict: 0.0\n",
      "        Else (feature 23 > -0.5563903461265709)\n",
      "         Predict: 1.0\n",
      "       Else (feature 10 > 0.06718447330428738)\n",
      "        Predict: 0.0\n",
      "     Else (feature 14 > -0.15100844808797703)\n",
      "      If (feature 0 <= 293683.0)\n",
      "       Predict: 0.0\n",
      "      Else (feature 0 > 293683.0)\n",
      "       Predict: 1.0\n",
      "    Else (feature 4 > -0.02539201935598802)\n",
      "     If (feature 10 <= 0.1866544046282306)\n",
      "      If (feature 12 <= 0.891530414290921)\n",
      "       If (feature 3 <= 1.2272105754793339)\n",
      "        Predict: 1.0\n",
      "       Else (feature 3 > 1.2272105754793339)\n",
      "        Predict: 0.0\n",
      "      Else (feature 12 > 0.891530414290921)\n",
      "       If (feature 24 <= 0.868608140181564)\n",
      "        Predict: 0.0\n",
      "       Else (feature 24 > 0.868608140181564)\n",
      "        If (feature 17 <= 0.9291632311932949)\n",
      "         Predict: 0.0\n",
      "        Else (feature 17 > 0.9291632311932949)\n",
      "         Predict: 1.0\n",
      "     Else (feature 10 > 0.1866544046282306)\n",
      "      If (feature 0 <= 275322.5)\n",
      "       If (feature 12 <= -0.7226298784348767)\n",
      "        If (feature 20 <= -1.3294945500007476)\n",
      "         Predict: 1.0\n",
      "        Else (feature 20 > -1.3294945500007476)\n",
      "         Predict: 0.0\n",
      "       Else (feature 12 > -0.7226298784348767)\n",
      "        Predict: 0.0\n",
      "      Else (feature 0 > 275322.5)\n",
      "       If (feature 8 <= 0.03317480564728552)\n",
      "        If (feature 25 <= 1.1619487503540562)\n",
      "         Predict: 1.0\n",
      "        Else (feature 25 > 1.1619487503540562)\n",
      "         Predict: 0.0\n",
      "       Else (feature 8 > 0.03317480564728552)\n",
      "        Predict: 0.0\n",
      "  Tree 1 (weight 1.0):\n",
      "    If (feature 12 <= -0.16997159654719063)\n",
      "     If (feature 11 <= -0.07392988624032831)\n",
      "      If (feature 9 <= 1.037860924596799)\n",
      "       If (feature 14 <= 0.4693962704971243)\n",
      "        If (feature 0 <= 275322.5)\n",
      "         Predict: 0.0\n",
      "        Else (feature 0 > 275322.5)\n",
      "         Predict: 1.0\n",
      "       Else (feature 14 > 0.4693962704971243)\n",
      "        If (feature 0 <= 275322.5)\n",
      "         Predict: 0.0\n",
      "        Else (feature 0 > 275322.5)\n",
      "         Predict: 1.0\n",
      "      Else (feature 9 > 1.037860924596799)\n",
      "       If (feature 17 <= 1.1999041983167624)\n",
      "        Predict: 0.0\n",
      "       Else (feature 17 > 1.1999041983167624)\n",
      "        If (feature 0 <= 173903.0)\n",
      "         Predict: 0.0\n",
      "        Else (feature 0 > 173903.0)\n",
      "         Predict: 1.0\n",
      "     Else (feature 11 > -0.07392988624032831)\n",
      "      If (feature 0 <= 173903.0)\n",
      "       If (feature 17 <= -0.21534952516782646)\n",
      "        If (feature 5 <= 0.15926351740792963)\n",
      "         Predict: 1.0\n",
      "        Else (feature 5 > 0.15926351740792963)\n",
      "         Predict: 0.0\n",
      "       Else (feature 17 > -0.21534952516782646)\n",
      "        If (feature 4 <= 1.1734700719029874)\n",
      "         Predict: 0.0\n",
      "        Else (feature 4 > 1.1734700719029874)\n",
      "         Predict: 1.0\n",
      "      Else (feature 0 > 173903.0)\n",
      "       If (feature 0 <= 190780.0)\n",
      "        If (feature 19 <= 0.8704548980139234)\n",
      "         Predict: 1.0\n",
      "        Else (feature 19 > 0.8704548980139234)\n",
      "         Predict: 0.0\n",
      "       Else (feature 0 > 190780.0)\n",
      "        If (feature 3 <= 0.8031874719395764)\n",
      "         Predict: 1.0\n",
      "        Else (feature 3 > 0.8031874719395764)\n",
      "         Predict: 0.0\n",
      "    Else (feature 12 > -0.16997159654719063)\n",
      "     If (feature 8 <= -0.3276049631346385)\n",
      "      If (feature 3 <= 0.9135438493577359)\n",
      "       If (feature 4 <= -0.4478400160124509)\n",
      "        Predict: 0.0\n",
      "       Else (feature 4 > -0.4478400160124509)\n",
      "        If (feature 14 <= 0.4693962704971243)\n",
      "         Predict: 1.0\n",
      "        Else (feature 14 > 0.4693962704971243)\n",
      "         Predict: 0.0\n",
      "      Else (feature 3 > 0.9135438493577359)\n",
      "       If (feature 17 <= 0.41008558706069287)\n",
      "        Predict: 0.0\n",
      "       Else (feature 17 > 0.41008558706069287)\n",
      "        If (feature 9 <= 0.014032956999591641)\n",
      "         Predict: 1.0\n",
      "        Else (feature 9 > 0.014032956999591641)\n",
      "         Predict: 0.0\n",
      "     Else (feature 8 > -0.3276049631346385)\n",
      "      If (feature 18 <= 1.0824787811274545)\n",
      "       If (feature 14 <= 0.09483206446420828)\n",
      "        If (feature 12 <= 0.1677483376821009)\n",
      "         Predict: 1.0\n",
      "        Else (feature 12 > 0.1677483376821009)\n",
      "         Predict: 0.0\n",
      "       Else (feature 14 > 0.09483206446420828)\n",
      "        Predict: 0.0\n",
      "      Else (feature 18 > 1.0824787811274545)\n",
      "       If (feature 4 <= -0.02539201935598802)\n",
      "        Predict: 0.0\n",
      "       Else (feature 4 > -0.02539201935598802)\n",
      "        If (feature 5 <= 0.3325018965496171)\n",
      "         Predict: 0.0\n",
      "        Else (feature 5 > 0.3325018965496171)\n",
      "         Predict: 1.0\n",
      "  Tree 2 (weight 1.0):\n",
      "    If (feature 17 <= 0.003584183073265061)\n",
      "     If (feature 0 <= 275322.5)\n",
      "      If (feature 16 <= -0.48314013011607043)\n",
      "       Predict: 1.0\n",
      "      Else (feature 16 > -0.48314013011607043)\n",
      "       If (feature 9 <= -0.45005972327589344)\n",
      "        If (feature 20 <= -0.8411528388998561)\n",
      "         Predict: 0.0\n",
      "        Else (feature 20 > -0.8411528388998561)\n",
      "         Predict: 1.0\n",
      "       Else (feature 9 > -0.45005972327589344)\n",
      "        Predict: 0.0\n",
      "     Else (feature 0 > 275322.5)\n",
      "      If (feature 16 <= 1.6564234630142805)\n",
      "       If (feature 3 <= 1.2272105754793339)\n",
      "        Predict: 1.0\n",
      "       Else (feature 3 > 1.2272105754793339)\n",
      "        Predict: 0.0\n",
      "      Else (feature 16 > 1.6564234630142805)\n",
      "       Predict: 0.0\n",
      "    Else (feature 17 > 0.003584183073265061)\n",
      "     If (feature 10 <= 0.06718447330428738)\n",
      "      If (feature 3 <= 0.18668580905443954)\n",
      "       If (feature 0 <= 275322.5)\n",
      "        If (feature 14 <= -1.0305451497563096)\n",
      "         Predict: 1.0\n",
      "        Else (feature 14 > -1.0305451497563096)\n",
      "         Predict: 0.0\n",
      "       Else (feature 0 > 275322.5)\n",
      "        If (feature 12 <= 0.9835712499846556)\n",
      "         Predict: 1.0\n",
      "        Else (feature 12 > 0.9835712499846556)\n",
      "         Predict: 0.0\n",
      "      Else (feature 3 > 0.18668580905443954)\n",
      "       If (feature 0 <= 293683.0)\n",
      "        Predict: 0.0\n",
      "       Else (feature 0 > 293683.0)\n",
      "        Predict: 1.0\n",
      "     Else (feature 10 > 0.06718447330428738)\n",
      "      If (feature 0 <= 293683.0)\n",
      "       Predict: 0.0\n",
      "      Else (feature 0 > 293683.0)\n",
      "       Predict: 1.0\n",
      "  Tree 3 (weight 1.0):\n",
      "    If (feature 12 <= -0.16997159654719063)\n",
      "     If (feature 14 <= 0.5333996712607236)\n",
      "      If (feature 0 <= 241925.5)\n",
      "       If (feature 12 <= -0.6325722321736256)\n",
      "        If (feature 7 <= 0.3919654054508094)\n",
      "         Predict: 1.0\n",
      "        Else (feature 7 > 0.3919654054508094)\n",
      "         Predict: 0.0\n",
      "       Else (feature 12 > -0.6325722321736256)\n",
      "        If (feature 17 <= 0.003584183073265061)\n",
      "         Predict: 1.0\n",
      "        Else (feature 17 > 0.003584183073265061)\n",
      "         Predict: 0.0\n",
      "      Else (feature 0 > 241925.5)\n",
      "       If (feature 4 <= -1.1075165831122782)\n",
      "        Predict: 0.0\n",
      "       Else (feature 4 > -1.1075165831122782)\n",
      "        If (feature 3 <= 0.8031874719395764)\n",
      "         Predict: 1.0\n",
      "        Else (feature 3 > 0.8031874719395764)\n",
      "         Predict: 0.0\n",
      "     Else (feature 14 > 0.5333996712607236)\n",
      "      If (feature 3 <= -2.0550565618925867)\n",
      "       Predict: 1.0\n",
      "      Else (feature 3 > -2.0550565618925867)\n",
      "       If (feature 2 <= -0.23215609023439132)\n",
      "        Predict: 0.0\n",
      "       Else (feature 2 > -0.23215609023439132)\n",
      "        If (feature 0 <= 258704.5)\n",
      "         Predict: 0.0\n",
      "        Else (feature 0 > 258704.5)\n",
      "         Predict: 1.0\n",
      "    Else (feature 12 > -0.16997159654719063)\n",
      "     If (feature 17 <= 0.9291632311932949)\n",
      "      If (feature 17 <= 0.003584183073265061)\n",
      "       If (feature 0 <= 275322.5)\n",
      "        If (feature 7 <= -0.5356137638395297)\n",
      "         Predict: 1.0\n",
      "        Else (feature 7 > -0.5356137638395297)\n",
      "         Predict: 0.0\n",
      "       Else (feature 0 > 275322.5)\n",
      "        If (feature 12 <= 0.5339940905448854)\n",
      "         Predict: 1.0\n",
      "        Else (feature 12 > 0.5339940905448854)\n",
      "         Predict: 0.0\n",
      "      Else (feature 17 > 0.003584183073265061)\n",
      "       If (feature 0 <= 293683.0)\n",
      "        Predict: 0.0\n",
      "       Else (feature 0 > 293683.0)\n",
      "        Predict: 1.0\n",
      "     Else (feature 17 > 0.9291632311932949)\n",
      "      If (feature 0 <= 293683.0)\n",
      "       If (feature 19 <= -0.8046496237181266)\n",
      "        If (feature 14 <= -0.5318326244852379)\n",
      "         Predict: 1.0\n",
      "        Else (feature 14 > -0.5318326244852379)\n",
      "         Predict: 0.0\n",
      "       Else (feature 19 > -0.8046496237181266)\n",
      "        Predict: 0.0\n",
      "      Else (feature 0 > 293683.0)\n",
      "       Predict: 1.0\n",
      "  Tree 4 (weight 1.0):\n",
      "    If (feature 12 <= -0.16997159654719063)\n",
      "     If (feature 10 <= 0.06718447330428738)\n",
      "      If (feature 4 <= -0.9992585890289372)\n",
      "       Predict: 0.0\n",
      "      Else (feature 4 > -0.9992585890289372)\n",
      "       If (feature 0 <= 190780.0)\n",
      "        If (feature 14 <= -0.15100844808797703)\n",
      "         Predict: 1.0\n",
      "        Else (feature 14 > -0.15100844808797703)\n",
      "         Predict: 0.0\n",
      "       Else (feature 0 > 190780.0)\n",
      "        Predict: 1.0\n",
      "     Else (feature 10 > 0.06718447330428738)\n",
      "      If (feature 0 <= 275322.5)\n",
      "       If (feature 17 <= -0.21534952516782646)\n",
      "        If (feature 11 <= -0.7230891382840174)\n",
      "         Predict: 0.0\n",
      "        Else (feature 11 > -0.7230891382840174)\n",
      "         Predict: 1.0\n",
      "       Else (feature 17 > -0.21534952516782646)\n",
      "        Predict: 0.0\n",
      "      Else (feature 0 > 275322.5)\n",
      "       If (feature 13 <= -1.5278539692521962)\n",
      "        If (feature 16 <= 0.07150453068817755)\n",
      "         Predict: 1.0\n",
      "        Else (feature 16 > 0.07150453068817755)\n",
      "         Predict: 0.0\n",
      "       Else (feature 13 > -1.5278539692521962)\n",
      "        Predict: 1.0\n",
      "    Else (feature 12 > -0.16997159654719063)\n",
      "     If (feature 1 <= 1.679895857114741)\n",
      "      If (feature 17 <= 1.1999041983167624)\n",
      "       If (feature 0 <= 293683.0)\n",
      "        Predict: 0.0\n",
      "       Else (feature 0 > 293683.0)\n",
      "        Predict: 1.0\n",
      "      Else (feature 17 > 1.1999041983167624)\n",
      "       If (feature 8 <= -0.10787378593017777)\n",
      "        If (feature 0 <= 275322.5)\n",
      "         Predict: 0.0\n",
      "        Else (feature 0 > 275322.5)\n",
      "         Predict: 1.0\n",
      "       Else (feature 8 > -0.10787378593017777)\n",
      "        Predict: 0.0\n",
      "     Else (feature 1 > 1.679895857114741)\n",
      "      If (feature 11 <= -0.14175156855960686)\n",
      "       If (feature 10 <= 0.3717708977833789)\n",
      "        If (feature 7 <= 0.8417836902748104)\n",
      "         Predict: 0.0\n",
      "        Else (feature 7 > 0.8417836902748104)\n",
      "         Predict: 1.0\n",
      "       Else (feature 10 > 0.3717708977833789)\n",
      "        Predict: 0.0\n",
      "      Else (feature 11 > -0.14175156855960686)\n",
      "       If (feature 16 <= 1.6564234630142805)\n",
      "        Predict: 0.0\n",
      "       Else (feature 16 > 1.6564234630142805)\n",
      "        If (feature 2 <= -0.7392108536057576)\n",
      "         Predict: 0.0\n",
      "        Else (feature 2 > -0.7392108536057576)\n",
      "         Predict: 1.0\n",
      "  Tree 5 (weight 1.0):\n",
      "    If (feature 12 <= -0.16997159654719063)\n",
      "     If (feature 0 <= 275322.5)\n",
      "      If (feature 17 <= 0.003584183073265061)\n",
      "       If (feature 14 <= -0.39230047460468875)\n",
      "        Predict: 1.0\n",
      "       Else (feature 14 > -0.39230047460468875)\n",
      "        If (feature 20 <= 0.02028111089040548)\n",
      "         Predict: 0.0\n",
      "        Else (feature 20 > 0.02028111089040548)\n",
      "         Predict: 1.0\n",
      "      Else (feature 17 > 0.003584183073265061)\n",
      "       If (feature 9 <= -0.6661382960266924)\n",
      "        If (feature 2 <= -0.49827766208852714)\n",
      "         Predict: 0.0\n",
      "        Else (feature 2 > -0.49827766208852714)\n",
      "         Predict: 1.0\n",
      "       Else (feature 9 > -0.6661382960266924)\n",
      "        If (feature 12 <= -0.837930212152388)\n",
      "         Predict: 1.0\n",
      "        Else (feature 12 > -0.837930212152388)\n",
      "         Predict: 0.0\n",
      "     Else (feature 0 > 275322.5)\n",
      "      If (feature 4 <= -1.5101978437225752)\n",
      "       Predict: 0.0\n",
      "      Else (feature 4 > -1.5101978437225752)\n",
      "       If (feature 4 <= -0.10843015402104816)\n",
      "        If (feature 3 <= -0.7759930405218014)\n",
      "         Predict: 0.0\n",
      "        Else (feature 3 > -0.7759930405218014)\n",
      "         Predict: 1.0\n",
      "       Else (feature 4 > -0.10843015402104816)\n",
      "        Predict: 1.0\n",
      "    Else (feature 12 > -0.16997159654719063)\n",
      "     If (feature 0 <= 293683.0)\n",
      "      If (feature 11 <= 0.17811832611180084)\n",
      "       Predict: 0.0\n",
      "      Else (feature 11 > 0.17811832611180084)\n",
      "       If (feature 10 <= 0.06718447330428738)\n",
      "        If (feature 0 <= 275322.5)\n",
      "         Predict: 0.0\n",
      "        Else (feature 0 > 275322.5)\n",
      "         Predict: 1.0\n",
      "       Else (feature 10 > 0.06718447330428738)\n",
      "        Predict: 0.0\n",
      "     Else (feature 0 > 293683.0)\n",
      "      Predict: 1.0\n",
      "  Tree 6 (weight 1.0):\n",
      "    If (feature 10 <= 0.06718447330428738)\n",
      "     If (feature 4 <= -0.6763860967258115)\n",
      "      If (feature 17 <= 0.003584183073265061)\n",
      "       If (feature 12 <= 0.1677483376821009)\n",
      "        If (feature 17 <= -0.8776600281126989)\n",
      "         Predict: 0.0\n",
      "        Else (feature 17 > -0.8776600281126989)\n",
      "         Predict: 1.0\n",
      "       Else (feature 12 > 0.1677483376821009)\n",
      "        Predict: 0.0\n",
      "      Else (feature 17 > 0.003584183073265061)\n",
      "       Predict: 0.0\n",
      "     Else (feature 4 > -0.6763860967258115)\n",
      "      If (feature 12 <= 0.891530414290921)\n",
      "       If (feature 0 <= 275322.5)\n",
      "        If (feature 11 <= 0.17811832611180084)\n",
      "         Predict: 0.0\n",
      "        Else (feature 11 > 0.17811832611180084)\n",
      "         Predict: 1.0\n",
      "       Else (feature 0 > 275322.5)\n",
      "        Predict: 1.0\n",
      "      Else (feature 12 > 0.891530414290921)\n",
      "       If (feature 14 <= 0.23278922972744376)\n",
      "        If (feature 28 <= 0.22346622844114183)\n",
      "         Predict: 0.0\n",
      "        Else (feature 28 > 0.22346622844114183)\n",
      "         Predict: 1.0\n",
      "       Else (feature 14 > 0.23278922972744376)\n",
      "        Predict: 0.0\n",
      "    Else (feature 10 > 0.06718447330428738)\n",
      "     If (feature 4 <= 0.07510251599273901)\n",
      "      If (feature 14 <= 0.40187999413978837)\n",
      "       If (feature 0 <= 293683.0)\n",
      "        Predict: 0.0\n",
      "       Else (feature 0 > 293683.0)\n",
      "        Predict: 1.0\n",
      "      Else (feature 14 > 0.40187999413978837)\n",
      "       If (feature 21 <= 0.13470710611610498)\n",
      "        Predict: 0.0\n",
      "       Else (feature 21 > 0.13470710611610498)\n",
      "        If (feature 0 <= 293683.0)\n",
      "         Predict: 0.0\n",
      "        Else (feature 0 > 293683.0)\n",
      "         Predict: 1.0\n",
      "     Else (feature 4 > 0.07510251599273901)\n",
      "      If (feature 0 <= 275322.5)\n",
      "       If (feature 14 <= -0.7738828012373267)\n",
      "        If (feature 0 <= 190780.0)\n",
      "         Predict: 1.0\n",
      "        Else (feature 0 > 190780.0)\n",
      "         Predict: 0.0\n",
      "       Else (feature 14 > -0.7738828012373267)\n",
      "        Predict: 0.0\n",
      "      Else (feature 0 > 275322.5)\n",
      "       If (feature 1 <= 1.679895857114741)\n",
      "        Predict: 1.0\n",
      "       Else (feature 1 > 1.679895857114741)\n",
      "        Predict: 0.0\n",
      "  Tree 7 (weight 1.0):\n",
      "    If (feature 16 <= -0.26524032858511193)\n",
      "     If (feature 0 <= 275322.5)\n",
      "      If (feature 14 <= -0.39230047460468875)\n",
      "       If (feature 8 <= -0.5166348316276673)\n",
      "        If (feature 7 <= 0.3073373917261776)\n",
      "         Predict: 1.0\n",
      "        Else (feature 7 > 0.3073373917261776)\n",
      "         Predict: 0.0\n",
      "       Else (feature 8 > -0.5166348316276673)\n",
      "        Predict: 1.0\n",
      "      Else (feature 14 > -0.39230047460468875)\n",
      "       If (feature 10 <= -0.4059393184125665)\n",
      "        If (feature 25 <= 0.10334753182869794)\n",
      "         Predict: 1.0\n",
      "        Else (feature 25 > 0.10334753182869794)\n",
      "         Predict: 0.0\n",
      "       Else (feature 10 > -0.4059393184125665)\n",
      "        If (feature 16 <= -0.9775153504679659)\n",
      "         Predict: 1.0\n",
      "        Else (feature 16 > -0.9775153504679659)\n",
      "         Predict: 0.0\n",
      "     Else (feature 0 > 275322.5)\n",
      "      If (feature 18 <= 1.3000775217140106)\n",
      "       If (feature 3 <= 1.7009730564726735)\n",
      "        If (feature 1 <= 1.1322277958030906)\n",
      "         Predict: 1.0\n",
      "        Else (feature 1 > 1.1322277958030906)\n",
      "         Predict: 0.0\n",
      "       Else (feature 3 > 1.7009730564726735)\n",
      "        If (feature 20 <= -0.4185052717107958)\n",
      "         Predict: 1.0\n",
      "        Else (feature 20 > -0.4185052717107958)\n",
      "         Predict: 0.0\n",
      "      Else (feature 18 > 1.3000775217140106)\n",
      "       Predict: 0.0\n",
      "    Else (feature 16 > -0.26524032858511193)\n",
      "     If (feature 10 <= 0.06718447330428738)\n",
      "      If (feature 11 <= -0.5267056640619896)\n",
      "       If (feature 8 <= -0.23569768152774556)\n",
      "        Predict: 0.0\n",
      "       Else (feature 8 > -0.23569768152774556)\n",
      "        If (feature 14 <= 0.09483206446420828)\n",
      "         Predict: 1.0\n",
      "        Else (feature 14 > 0.09483206446420828)\n",
      "         Predict: 0.0\n",
      "      Else (feature 11 > -0.5267056640619896)\n",
      "       If (feature 14 <= 0.23278922972744376)\n",
      "        Predict: 1.0\n",
      "       Else (feature 14 > 0.23278922972744376)\n",
      "        Predict: 0.0\n",
      "     Else (feature 10 > 0.06718447330428738)\n",
      "      If (feature 12 <= 0.39983302628251866)\n",
      "       If (feature 23 <= 0.3718702372046122)\n",
      "        If (feature 0 <= 293683.0)\n",
      "         Predict: 0.0\n",
      "        Else (feature 0 > 293683.0)\n",
      "         Predict: 1.0\n",
      "       Else (feature 23 > 0.3718702372046122)\n",
      "        If (feature 3 <= 1.2272105754793339)\n",
      "         Predict: 1.0\n",
      "        Else (feature 3 > 1.2272105754793339)\n",
      "         Predict: 0.0\n",
      "      Else (feature 12 > 0.39983302628251866)\n",
      "       If (feature 17 <= 0.69475314421963)\n",
      "        Predict: 0.0\n",
      "       Else (feature 17 > 0.69475314421963)\n",
      "        If (feature 0 <= 293683.0)\n",
      "         Predict: 0.0\n",
      "        Else (feature 0 > 293683.0)\n",
      "         Predict: 1.0\n",
      "  Tree 8 (weight 1.0):\n",
      "    If (feature 17 <= 0.003584183073265061)\n",
      "     If (feature 0 <= 275322.5)\n",
      "      If (feature 12 <= -0.16997159654719063)\n",
      "       If (feature 14 <= -0.39230047460468875)\n",
      "        Predict: 1.0\n",
      "       Else (feature 14 > -0.39230047460468875)\n",
      "        If (feature 19 <= 0.14659821456478928)\n",
      "         Predict: 0.0\n",
      "        Else (feature 19 > 0.14659821456478928)\n",
      "         Predict: 1.0\n",
      "      Else (feature 12 > -0.16997159654719063)\n",
      "       If (feature 5 <= -0.0757611749907494)\n",
      "        If (feature 15 <= -1.5017768447788167)\n",
      "         Predict: 1.0\n",
      "        Else (feature 15 > -1.5017768447788167)\n",
      "         Predict: 0.0\n",
      "       Else (feature 5 > -0.0757611749907494)\n",
      "        Predict: 0.0\n",
      "     Else (feature 0 > 275322.5)\n",
      "      If (feature 4 <= -1.1075165831122782)\n",
      "       Predict: 0.0\n",
      "      Else (feature 4 > -1.1075165831122782)\n",
      "       If (feature 0 <= 293683.0)\n",
      "        If (feature 11 <= -1.3649230330304531)\n",
      "         Predict: 0.0\n",
      "        Else (feature 11 > -1.3649230330304531)\n",
      "         Predict: 1.0\n",
      "       Else (feature 0 > 293683.0)\n",
      "        Predict: 1.0\n",
      "    Else (feature 17 > 0.003584183073265061)\n",
      "     If (feature 14 <= 0.09483206446420828)\n",
      "      If (feature 28 <= -0.06268124789533983)\n",
      "       If (feature 17 <= 0.29731311856876536)\n",
      "        If (feature 4 <= -0.6763860967258115)\n",
      "         Predict: 0.0\n",
      "        Else (feature 4 > -0.6763860967258115)\n",
      "         Predict: 1.0\n",
      "       Else (feature 17 > 0.29731311856876536)\n",
      "        If (feature 0 <= 293683.0)\n",
      "         Predict: 0.0\n",
      "        Else (feature 0 > 293683.0)\n",
      "         Predict: 1.0\n",
      "      Else (feature 28 > -0.06268124789533983)\n",
      "       If (feature 4 <= -0.39476805672725684)\n",
      "        If (feature 0 <= 293683.0)\n",
      "         Predict: 0.0\n",
      "        Else (feature 0 > 293683.0)\n",
      "         Predict: 1.0\n",
      "       Else (feature 4 > -0.39476805672725684)\n",
      "        If (feature 0 <= 275322.5)\n",
      "         Predict: 0.0\n",
      "        Else (feature 0 > 275322.5)\n",
      "         Predict: 1.0\n",
      "     Else (feature 14 > 0.09483206446420828)\n",
      "      If (feature 14 <= 0.40187999413978837)\n",
      "       If (feature 4 <= -0.31988723203938485)\n",
      "        Predict: 0.0\n",
      "       Else (feature 4 > -0.31988723203938485)\n",
      "        If (feature 0 <= 275322.5)\n",
      "         Predict: 0.0\n",
      "        Else (feature 0 > 275322.5)\n",
      "         Predict: 1.0\n",
      "      Else (feature 14 > 0.40187999413978837)\n",
      "       If (feature 0 <= 293683.0)\n",
      "        Predict: 0.0\n",
      "       Else (feature 0 > 293683.0)\n",
      "        Predict: 1.0\n",
      "  Tree 9 (weight 1.0):\n",
      "    If (feature 17 <= 0.003584183073265061)\n",
      "     If (feature 18 <= 0.91171559341703)\n",
      "      If (feature 7 <= 1.3354918407439038)\n",
      "       If (feature 12 <= 0.39983302628251866)\n",
      "        If (feature 16 <= 1.2902399233835482)\n",
      "         Predict: 1.0\n",
      "        Else (feature 16 > 1.2902399233835482)\n",
      "         Predict: 0.0\n",
      "       Else (feature 12 > 0.39983302628251866)\n",
      "        If (feature 8 <= -0.017416924195653966)\n",
      "         Predict: 0.0\n",
      "        Else (feature 8 > -0.017416924195653966)\n",
      "         Predict: 1.0\n",
      "      Else (feature 7 > 1.3354918407439038)\n",
      "       If (feature 0 <= 275322.5)\n",
      "        Predict: 0.0\n",
      "       Else (feature 0 > 275322.5)\n",
      "        If (feature 3 <= 0.26189796078547034)\n",
      "         Predict: 1.0\n",
      "        Else (feature 3 > 0.26189796078547034)\n",
      "         Predict: 0.0\n",
      "     Else (feature 18 > 0.91171559341703)\n",
      "      If (feature 0 <= 293683.0)\n",
      "       If (feature 12 <= -1.2217790853657213)\n",
      "        Predict: 1.0\n",
      "       Else (feature 12 > -1.2217790853657213)\n",
      "        Predict: 0.0\n",
      "      Else (feature 0 > 293683.0)\n",
      "       Predict: 1.0\n",
      "    Else (feature 17 > 0.003584183073265061)\n",
      "     If (feature 12 <= -0.44453423566125916)\n",
      "      If (feature 3 <= -0.11209831632627473)\n",
      "       If (feature 6 <= 1.6179618461803278)\n",
      "        If (feature 11 <= -0.3600373074785479)\n",
      "         Predict: 0.0\n",
      "        Else (feature 11 > -0.3600373074785479)\n",
      "         Predict: 1.0\n",
      "       Else (feature 6 > 1.6179618461803278)\n",
      "        Predict: 0.0\n",
      "      Else (feature 3 > -0.11209831632627473)\n",
      "       If (feature 17 <= 1.1999041983167624)\n",
      "        Predict: 0.0\n",
      "       Else (feature 17 > 1.1999041983167624)\n",
      "        If (feature 6 <= 0.12263754586227468)\n",
      "         Predict: 1.0\n",
      "        Else (feature 6 > 0.12263754586227468)\n",
      "         Predict: 0.0\n",
      "     Else (feature 12 > -0.44453423566125916)\n",
      "      If (feature 16 <= 2.346955483511066)\n",
      "       If (feature 12 <= 0.4691819115791811)\n",
      "        If (feature 18 <= 1.3000775217140106)\n",
      "         Predict: 0.0\n",
      "        Else (feature 18 > 1.3000775217140106)\n",
      "         Predict: 1.0\n",
      "       Else (feature 12 > 0.4691819115791811)\n",
      "        If (feature 14 <= 0.09483206446420828)\n",
      "         Predict: 1.0\n",
      "        Else (feature 14 > 0.09483206446420828)\n",
      "         Predict: 0.0\n",
      "      Else (feature 16 > 2.346955483511066)\n",
      "       If (feature 19 <= -1.33626011783704)\n",
      "        If (feature 0 <= 275322.5)\n",
      "         Predict: 0.0\n",
      "        Else (feature 0 > 275322.5)\n",
      "         Predict: 1.0\n",
      "       Else (feature 19 > -1.33626011783704)\n",
      "        Predict: 0.0\n",
      "\n"
     ]
    }
   ],
   "source": [
    "evaluator = MulticlassClassificationEvaluator(labelCol=\"Class\", predictionCol=\"prediction\", metricName=\"accuracy\")\n",
    "accuracy = evaluator.evaluate(predictions)\n",
    "test_error = 1.0 - accuracy\n",
    "print(f\"Accuracy: {accuracy:.4f}\")\n",
    "print(f\"Test Error: {test_error:.4f}\")\n",
    "rf_model = model.stages[-1]\n",
    "print(\"Trained Random Forest model structure:\")\n",
    "print(rf_model.toDebugString)"
   ]
  },
  {
   "cell_type": "markdown",
   "id": "826ec9a5ec3469f4",
   "metadata": {
    "collapsed": false,
    "jupyter": {
     "outputs_hidden": false
    }
   },
   "source": [
    "### Exercise 3.B"
   ]
  },
  {
   "cell_type": "markdown",
   "id": "13f93c1fc3d82230",
   "metadata": {
    "collapsed": false,
    "jupyter": {
     "outputs_hidden": false
    }
   },
   "source": [
    "- Switch classifier to DecisionTreeClassifier\n",
    "- Extend the pipeline from the previous task with QuantileDiscretizer\n",
    "- Try using a couple of different numbers of buckets, which configuration gives the best results? Are there any differences between results?"
   ]
  },
  {
   "cell_type": "code",
   "execution_count": 39,
   "id": "6c22c74092b27dba",
   "metadata": {
    "ExecuteTime": {
     "end_time": "2023-11-17T00:30:05.397499Z",
     "start_time": "2023-11-17T00:30:05.390309Z"
    },
    "collapsed": false,
    "jupyter": {
     "outputs_hidden": false
    }
   },
   "outputs": [
    {
     "name": "stdout",
     "output_type": "stream",
     "text": [
      "Bins number 2\n"
     ]
    },
    {
     "name": "stderr",
     "output_type": "stream",
     "text": [
      "Exception ignored in: <function JavaWrapper.__del__ at 0x7f08e0c602c0>\n",
      "Traceback (most recent call last):\n",
      "  File \"/usr/local/spark/python/pyspark/ml/wrapper.py\", line 53, in __del__\n",
      "    if SparkContext._active_spark_context and self._java_obj is not None:\n",
      "                                              ^^^^^^^^^^^^^^\n",
      "AttributeError: 'QuantileDiscretizer' object has no attribute '_java_obj'\n"
     ]
    },
    {
     "name": "stdout",
     "output_type": "stream",
     "text": [
      "Accuracy: 0.9981\n",
      "Test Error: 0.0019\n",
      "Bins number 3\n",
      "Accuracy: 0.9676\n",
      "Test Error: 0.0324\n",
      "Bins number 4\n",
      "Accuracy: 0.9984\n",
      "Test Error: 0.0016\n",
      "Bins number 5\n",
      "Accuracy: 0.9889\n",
      "Test Error: 0.0111\n"
     ]
    }
   ],
   "source": [
    "from pyspark.ml.classification import DecisionTreeClassifier\n",
    "from pyspark.ml.feature import QuantileDiscretizer\n",
    "for bins in range(2,6):\n",
    "    print(\"Bins number\", bins)\n",
    "    qd = QuantileDiscretizer(inputCol=\"features_before\", outputCol=\"features\", numBuckets= bins)\n",
    "  \n",
    "    stages = []\n",
    "    discretized_features = []\n",
    "\n",
    "    # Apply QuantileDiscretizer to each feature\n",
    "    for feature in fdetection.columns[:-1]:\n",
    "        discretizer = QuantileDiscretizer(inputCol=feature, outputCol=f\"{feature}_discretized\", numBuckets=bins)\n",
    "        stages.append(discretizer)\n",
    "        discretized_features.append(f\"{feature}_discretized\")\n",
    "\n",
    "    \n",
    "    assembler = VectorAssembler(inputCols= discretized_features, outputCol=\"features\")\n",
    "    dt_classifier = DecisionTreeClassifier(labelCol=\"Class\", featuresCol=\"features\")\n",
    "    stages.append(assembler)\n",
    "    stages.append(dt_classifier)\n",
    "    pipeline = Pipeline(stages=stages)\n",
    "    model = pipeline.fit(train_data)\n",
    "    predictions = model.transform(test_data)\n",
    "    evaluator = MulticlassClassificationEvaluator(labelCol=\"Class\", predictionCol=\"prediction\", metricName=\"accuracy\")\n",
    "    accuracy = evaluator.evaluate(predictions)\n",
    "    test_error = 1.0 - accuracy\n",
    "    print(f\"Accuracy: {accuracy:.4f}\")\n",
    "    print(f\"Test Error: {test_error:.4f}\")\n",
    "\n",
    "\n"
   ]
  },
  {
   "cell_type": "code",
   "execution_count": null,
   "id": "ee7077d2-3848-4643-88de-a3541bbe2ec2",
   "metadata": {},
   "outputs": [],
   "source": [
    "adding more didnt help, but at 5 bins it accidentally performed better"
   ]
  },
  {
   "cell_type": "markdown",
   "id": "8a1ce672c3427cbf",
   "metadata": {
    "collapsed": false,
    "jupyter": {
     "outputs_hidden": false
    }
   },
   "source": [
    "## 4. Text classification (2p.)"
   ]
  },
  {
   "cell_type": "markdown",
   "id": "a2bcf28c6226b936",
   "metadata": {
    "collapsed": false,
    "jupyter": {
     "outputs_hidden": false
    }
   },
   "source": [
    "Build a pipeline consisting of Tokenizer, HashingTF, IDF and StringIndexer and LogisticRegression, fit it to training data: https://www.kaggle.com/datasets/deepcontractor/200k-short-texts-for-humor-detection"
   ]
  },
  {
   "cell_type": "code",
   "execution_count": 40,
   "id": "3faf848086f2f5c6",
   "metadata": {
    "ExecuteTime": {
     "end_time": "2023-11-17T00:30:07.192590Z",
     "start_time": "2023-11-17T00:30:07.171394Z"
    },
    "collapsed": false,
    "jupyter": {
     "outputs_hidden": false
    }
   },
   "outputs": [
    {
     "name": "stdout",
     "output_type": "stream",
     "text": [
      "Downloading from https://www.kaggle.com/api/v1/datasets/download/deepcontractor/200k-short-texts-for-humor-detection?dataset_version_number=1...\n"
     ]
    },
    {
     "name": "stderr",
     "output_type": "stream",
     "text": [
      "100%|██████████| 6.00M/6.00M [00:00<00:00, 8.88MB/s]"
     ]
    },
    {
     "name": "stdout",
     "output_type": "stream",
     "text": [
      "Extracting files...\n"
     ]
    },
    {
     "name": "stderr",
     "output_type": "stream",
     "text": [
      "\n"
     ]
    },
    {
     "name": "stdout",
     "output_type": "stream",
     "text": [
      "Path to dataset files: /home/jovyan/.cache/kagglehub/datasets/deepcontractor/200k-short-texts-for-humor-detection/versions/1\n"
     ]
    }
   ],
   "source": [
    "path = kagglehub.dataset_download(\"deepcontractor/200k-short-texts-for-humor-detection\")\n",
    "print(\"Path to dataset files:\", path)"
   ]
  },
  {
   "cell_type": "code",
   "execution_count": 41,
   "id": "0767893a-8215-452f-8cc7-0aaaf5283b2c",
   "metadata": {},
   "outputs": [
    {
     "name": "stdout",
     "output_type": "stream",
     "text": [
      "['text', 'humor']\n"
     ]
    }
   ],
   "source": [
    "hdetection = spark.read.csv(path, header=True, inferSchema=True)\n",
    "hdetection.take(1)\n",
    "print(hdetection.columns)"
   ]
  },
  {
   "cell_type": "code",
   "execution_count": 44,
   "id": "b0db075c-26d6-4338-8ede-9f757daf55ab",
   "metadata": {},
   "outputs": [
    {
     "name": "stdout",
     "output_type": "stream",
     "text": [
      "Test Accuracy: 0.8809\n"
     ]
    }
   ],
   "source": [
    "from pyspark.sql.functions import col\n",
    "\n",
    "train_data = train_data.withColumn(\"humor\", col(\"humor\").cast(\"string\"))\n",
    "test_data = test_data.withColumn(\"humor\", col(\"humor\").cast(\"string\"))\n",
    "tokenizer = Tokenizer(inputCol=\"text\", outputCol=\"words\")\n",
    "hashing_tf = HashingTF(inputCol=\"words\", outputCol=\"raw_features\", numFeatures=1000)\n",
    "idf = IDF(inputCol=\"raw_features\", outputCol=\"features\")\n",
    "label_indexer = StringIndexer(inputCol=\"humor\", outputCol=\"indexed_label\")\n",
    "lr = LogisticRegression(featuresCol=\"features\", labelCol=\"indexed_label\", maxIter=10)\n",
    "pipeline = Pipeline(stages=[tokenizer, hashing_tf, idf, label_indexer, lr])\n",
    "model = pipeline.fit(train_data)\n",
    "predictions = model.transform(test_data)\n",
    "evaluator = MulticlassClassificationEvaluator(\n",
    "    labelCol=\"indexed_label\", predictionCol=\"prediction\", metricName=\"accuracy\"\n",
    ")\n",
    "accuracy = evaluator.evaluate(predictions)\n",
    "print(f\"Test Accuracy: {accuracy:.4f}\")\n"
   ]
  }
 ],
 "metadata": {
  "kernelspec": {
   "display_name": "Python 3 (ipykernel)",
   "language": "python",
   "name": "python3"
  },
  "language_info": {
   "codemirror_mode": {
    "name": "ipython",
    "version": 3
   },
   "file_extension": ".py",
   "mimetype": "text/x-python",
   "name": "python",
   "nbconvert_exporter": "python",
   "pygments_lexer": "ipython3",
   "version": "3.11.6"
  }
 },
 "nbformat": 4,
 "nbformat_minor": 5
}
